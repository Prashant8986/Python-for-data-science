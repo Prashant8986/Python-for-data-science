{
 "cells": [
  {
   "cell_type": "code",
   "execution_count": 1,
   "id": "e3cea09e",
   "metadata": {},
   "outputs": [
    {
     "name": "stdout",
     "output_type": "stream",
     "text": [
      "a\n"
     ]
    }
   ],
   "source": [
    "s='prashant'\n",
    "print(s[2])"
   ]
  },
  {
   "cell_type": "code",
   "execution_count": 2,
   "id": "76e99830",
   "metadata": {},
   "outputs": [
    {
     "name": "stdout",
     "output_type": "stream",
     "text": [
      "r\n"
     ]
    }
   ],
   "source": [
    "print(s[-7])"
   ]
  },
  {
   "cell_type": "code",
   "execution_count": 3,
   "id": "5d570fef",
   "metadata": {},
   "outputs": [
    {
     "name": "stdout",
     "output_type": "stream",
     "text": [
      "r\n"
     ]
    }
   ],
   "source": [
    "print(s[1])"
   ]
  },
  {
   "cell_type": "code",
   "execution_count": 4,
   "id": "84674184",
   "metadata": {},
   "outputs": [
    {
     "ename": "IndexError",
     "evalue": "string index out of range",
     "output_type": "error",
     "traceback": [
      "\u001b[1;31m---------------------------------------------------------------------------\u001b[0m",
      "\u001b[1;31mIndexError\u001b[0m                                Traceback (most recent call last)",
      "Cell \u001b[1;32mIn[4], line 1\u001b[0m\n\u001b[1;32m----> 1\u001b[0m \u001b[38;5;28mprint\u001b[39m(s[\u001b[38;5;241m8\u001b[39m])\n",
      "\u001b[1;31mIndexError\u001b[0m: string index out of range"
     ]
    }
   ],
   "source": [
    "print(s[8])"
   ]
  },
  {
   "cell_type": "code",
   "execution_count": null,
   "id": "14e96a78",
   "metadata": {},
   "outputs": [],
   "source": [
    "s\n"
   ]
  },
  {
   "cell_type": "code",
   "execution_count": null,
   "id": "f38c60fc",
   "metadata": {},
   "outputs": [],
   "source": [
    "s[1:5]"
   ]
  },
  {
   "cell_type": "code",
   "execution_count": null,
   "id": "b92bae6d",
   "metadata": {},
   "outputs": [],
   "source": [
    "s='pankaj'\n",
    "s[:4]"
   ]
  },
  {
   "cell_type": "code",
   "execution_count": null,
   "id": "7bd621c7",
   "metadata": {},
   "outputs": [],
   "source": [
    "print(s[1:5])"
   ]
  },
  {
   "cell_type": "code",
   "execution_count": null,
   "id": "1a9c19df",
   "metadata": {},
   "outputs": [],
   "source": [
    "s[2:]"
   ]
  },
  {
   "cell_type": "code",
   "execution_count": null,
   "id": "e4841b01",
   "metadata": {},
   "outputs": [],
   "source": [
    "s[:]"
   ]
  },
  {
   "cell_type": "code",
   "execution_count": null,
   "id": "60bc61cd",
   "metadata": {},
   "outputs": [],
   "source": [
    "s*2\n"
   ]
  },
  {
   "cell_type": "code",
   "execution_count": null,
   "id": "e9ee246a",
   "metadata": {},
   "outputs": [],
   "source": [
    "s*3"
   ]
  },
  {
   "cell_type": "code",
   "execution_count": null,
   "id": "47dd43f1",
   "metadata": {},
   "outputs": [],
   "source": [
    "s[5]"
   ]
  },
  {
   "cell_type": "code",
   "execution_count": null,
   "id": "fdf39fca",
   "metadata": {},
   "outputs": [],
   "source": [
    "len(s)"
   ]
  },
  {
   "cell_type": "code",
   "execution_count": null,
   "id": "8aad1898",
   "metadata": {},
   "outputs": [],
   "source": [
    "size(s)"
   ]
  },
  {
   "cell_type": "code",
   "execution_count": null,
   "id": "bdbaa23d",
   "metadata": {},
   "outputs": [],
   "source": [
    "bool('')"
   ]
  },
  {
   "cell_type": "code",
   "execution_count": null,
   "id": "a1aa7979",
   "metadata": {},
   "outputs": [],
   "source": [
    "bool(\"    \")"
   ]
  },
  {
   "cell_type": "code",
   "execution_count": null,
   "id": "cbcda766",
   "metadata": {},
   "outputs": [],
   "source": [
    "bool(\" \")"
   ]
  },
  {
   "cell_type": "code",
   "execution_count": null,
   "id": "bf727460",
   "metadata": {},
   "outputs": [],
   "source": [
    "bool(\"\")"
   ]
  },
  {
   "cell_type": "code",
   "execution_count": null,
   "id": "7e05e65a",
   "metadata": {},
   "outputs": [],
   "source": [
    " str( )"
   ]
  },
  {
   "cell_type": "code",
   "execution_count": null,
   "id": "b11c8031",
   "metadata": {},
   "outputs": [],
   "source": [
    "str(\"\")"
   ]
  },
  {
   "cell_type": "code",
   "execution_count": null,
   "id": "0d67cb68",
   "metadata": {},
   "outputs": [],
   "source": [
    "int(2)"
   ]
  },
  {
   "cell_type": "code",
   "execution_count": null,
   "id": "144f5635",
   "metadata": {},
   "outputs": [],
   "source": [
    "int(12.34)"
   ]
  },
  {
   "cell_type": "code",
   "execution_count": null,
   "id": "8ab97871",
   "metadata": {},
   "outputs": [],
   "source": [
    "int(\"True\")"
   ]
  },
  {
   "cell_type": "code",
   "execution_count": null,
   "id": "84279a5e",
   "metadata": {},
   "outputs": [],
   "source": [
    "int('True')"
   ]
  },
  {
   "cell_type": "code",
   "execution_count": null,
   "id": "1b6da2b7",
   "metadata": {},
   "outputs": [],
   "source": [
    "int('123')"
   ]
  },
  {
   "cell_type": "code",
   "execution_count": null,
   "id": "be702e4a",
   "metadata": {},
   "outputs": [],
   "source": [
    "int(\"123\")"
   ]
  },
  {
   "cell_type": "code",
   "execution_count": null,
   "id": "239c8679",
   "metadata": {},
   "outputs": [],
   "source": [
    "int(\"123.45\")"
   ]
  },
  {
   "cell_type": "code",
   "execution_count": null,
   "id": "64bb912e",
   "metadata": {},
   "outputs": [],
   "source": [
    "int(true)"
   ]
  },
  {
   "cell_type": "code",
   "execution_count": null,
   "id": "5f2f1257",
   "metadata": {},
   "outputs": [],
   "source": [
    "int(True)"
   ]
  },
  {
   "cell_type": "code",
   "execution_count": null,
   "id": "de66bb78",
   "metadata": {},
   "outputs": [],
   "source": [
    "int(true)"
   ]
  },
  {
   "cell_type": "code",
   "execution_count": null,
   "id": "103c6e62",
   "metadata": {},
   "outputs": [],
   "source": [
    "int('True')"
   ]
  },
  {
   "cell_type": "code",
   "execution_count": null,
   "id": "ad56279c",
   "metadata": {},
   "outputs": [],
   "source": [
    "int(False)"
   ]
  },
  {
   "cell_type": "code",
   "execution_count": null,
   "id": "596e86df",
   "metadata": {},
   "outputs": [],
   "source": [
    "int('onr')"
   ]
  },
  {
   "cell_type": "code",
   "execution_count": null,
   "id": "cdd196ac",
   "metadata": {},
   "outputs": [],
   "source": [
    "float(12)\n",
    "float(12.53)"
   ]
  },
  {
   "cell_type": "code",
   "execution_count": null,
   "id": "6c2f6a36",
   "metadata": {},
   "outputs": [],
   "source": [
    "float(-12.42)"
   ]
  },
  {
   "cell_type": "code",
   "execution_count": null,
   "id": "216d7af9",
   "metadata": {},
   "outputs": [],
   "source": [
    "int(-13.89)"
   ]
  },
  {
   "cell_type": "code",
   "execution_count": null,
   "id": "efb0f7ca",
   "metadata": {},
   "outputs": [],
   "source": [
    "float(\"1234\")"
   ]
  },
  {
   "cell_type": "code",
   "execution_count": null,
   "id": "44a1061a",
   "metadata": {},
   "outputs": [],
   "source": [
    "float(\"123.12\")"
   ]
  },
  {
   "cell_type": "code",
   "execution_count": null,
   "id": "5510a6e1",
   "metadata": {},
   "outputs": [],
   "source": [
    "float()"
   ]
  },
  {
   "cell_type": "code",
   "execution_count": null,
   "id": "1a8b17c7",
   "metadata": {},
   "outputs": [],
   "source": [
    "float(\"\")"
   ]
  },
  {
   "cell_type": "code",
   "execution_count": null,
   "id": "7ba882e3",
   "metadata": {},
   "outputs": [],
   "source": [
    "float('')"
   ]
  },
  {
   "cell_type": "code",
   "execution_count": null,
   "id": "dadbe7bc",
   "metadata": {},
   "outputs": [],
   "source": [
    "str(\"one\")"
   ]
  },
  {
   "cell_type": "code",
   "execution_count": null,
   "id": "830960f7",
   "metadata": {},
   "outputs": [],
   "source": [
    "float('one')"
   ]
  },
  {
   "cell_type": "code",
   "execution_count": null,
   "id": "9e1dd56c",
   "metadata": {},
   "outputs": [],
   "source": [
    "float(12+12J)"
   ]
  },
  {
   "cell_type": "code",
   "execution_count": null,
   "id": "f91e780a",
   "metadata": {},
   "outputs": [],
   "source": [
    "float(True)"
   ]
  },
  {
   "cell_type": "code",
   "execution_count": null,
   "id": "a1bd75f8",
   "metadata": {},
   "outputs": [],
   "source": [
    "float(true)"
   ]
  },
  {
   "cell_type": "code",
   "execution_count": null,
   "id": "8232b19f",
   "metadata": {},
   "outputs": [],
   "source": [
    "float('True')"
   ]
  },
  {
   "cell_type": "code",
   "execution_count": null,
   "id": "969c2cc1",
   "metadata": {},
   "outputs": [],
   "source": [
    "float(False)"
   ]
  },
  {
   "cell_type": "code",
   "execution_count": null,
   "id": "7c33f24a",
   "metadata": {},
   "outputs": [],
   "source": [
    "complex(0)"
   ]
  },
  {
   "cell_type": "code",
   "execution_count": null,
   "id": "3531e81e",
   "metadata": {},
   "outputs": [],
   "source": [
    "complex(True)"
   ]
  },
  {
   "cell_type": "code",
   "execution_count": null,
   "id": "56bcdbe5",
   "metadata": {},
   "outputs": [],
   "source": [
    "complex(False)"
   ]
  },
  {
   "cell_type": "code",
   "execution_count": null,
   "id": "c84fa863",
   "metadata": {},
   "outputs": [],
   "source": [
    "complex(-2)"
   ]
  },
  {
   "cell_type": "code",
   "execution_count": null,
   "id": "b917f0bc",
   "metadata": {},
   "outputs": [],
   "source": [
    "complex(-3)+complex(True)*3"
   ]
  },
  {
   "cell_type": "code",
   "execution_count": null,
   "id": "fd512d82",
   "metadata": {},
   "outputs": [],
   "source": [
    "complex(2+3j)*complex(2-3j)"
   ]
  },
  {
   "cell_type": "code",
   "execution_count": null,
   "id": "208023cc",
   "metadata": {},
   "outputs": [],
   "source": [
    "complex(\"123\")"
   ]
  },
  {
   "cell_type": "code",
   "execution_count": null,
   "id": "0ba3e978",
   "metadata": {},
   "outputs": [],
   "source": [
    "complex('123.34')"
   ]
  },
  {
   "cell_type": "code",
   "execution_count": null,
   "id": "56ea6da9",
   "metadata": {},
   "outputs": [],
   "source": [
    "bool(True)"
   ]
  },
  {
   "cell_type": "code",
   "execution_count": null,
   "id": "ab5a8904",
   "metadata": {},
   "outputs": [],
   "source": [
    "bool(21)"
   ]
  },
  {
   "cell_type": "code",
   "execution_count": null,
   "id": "4f924a30",
   "metadata": {},
   "outputs": [],
   "source": [
    "bool(12.32)"
   ]
  },
  {
   "cell_type": "code",
   "execution_count": null,
   "id": "cc3208c5",
   "metadata": {},
   "outputs": [],
   "source": [
    "bool('123')"
   ]
  },
  {
   "cell_type": "code",
   "execution_count": null,
   "id": "dd3f1433",
   "metadata": {},
   "outputs": [],
   "source": [
    "bool(\"12.32\")"
   ]
  },
  {
   "cell_type": "code",
   "execution_count": null,
   "id": "bc5c7cfc",
   "metadata": {},
   "outputs": [],
   "source": [
    "bool(0)"
   ]
  },
  {
   "cell_type": "code",
   "execution_count": null,
   "id": "b37926e7",
   "metadata": {},
   "outputs": [],
   "source": [
    "bool('0')"
   ]
  },
  {
   "cell_type": "code",
   "execution_count": null,
   "id": "91fa541c",
   "metadata": {},
   "outputs": [],
   "source": []
  },
  {
   "cell_type": "code",
   "execution_count": null,
   "id": "f41531c8",
   "metadata": {},
   "outputs": [],
   "source": [
    "bool(\" \")"
   ]
  },
  {
   "cell_type": "code",
   "execution_count": null,
   "id": "d0a17338",
   "metadata": {},
   "outputs": [],
   "source": [
    "bool(0.0)"
   ]
  },
  {
   "cell_type": "code",
   "execution_count": null,
   "id": "6c932bae",
   "metadata": {},
   "outputs": [],
   "source": [
    "bool('one123')"
   ]
  },
  {
   "cell_type": "code",
   "execution_count": null,
   "id": "0c257559",
   "metadata": {},
   "outputs": [],
   "source": [
    "bool(\"zero\")"
   ]
  },
  {
   "cell_type": "code",
   "execution_count": null,
   "id": "91371f6c",
   "metadata": {},
   "outputs": [],
   "source": [
    "bool(\"zer0\")"
   ]
  },
  {
   "cell_type": "code",
   "execution_count": null,
   "id": "916eab8f",
   "metadata": {},
   "outputs": [],
   "source": [
    "bool(0+0j)"
   ]
  },
  {
   "cell_type": "code",
   "execution_count": null,
   "id": "420420fd",
   "metadata": {},
   "outputs": [],
   "source": [
    "bool(2-3j)"
   ]
  },
  {
   "cell_type": "code",
   "execution_count": null,
   "id": "879ada37",
   "metadata": {},
   "outputs": [],
   "source": [
    "str()"
   ]
  },
  {
   "cell_type": "code",
   "execution_count": null,
   "id": "53825953",
   "metadata": {},
   "outputs": [],
   "source": [
    "str(\"  \")"
   ]
  },
  {
   "cell_type": "code",
   "execution_count": null,
   "id": "041935c3",
   "metadata": {},
   "outputs": [],
   "source": [
    "str(12)"
   ]
  },
  {
   "cell_type": "code",
   "execution_count": null,
   "id": "d1934413",
   "metadata": {},
   "outputs": [],
   "source": [
    "str('122.23')"
   ]
  },
  {
   "cell_type": "code",
   "execution_count": null,
   "id": "ef267f75",
   "metadata": {},
   "outputs": [],
   "source": [
    "str(\"onerws\")"
   ]
  },
  {
   "cell_type": "code",
   "execution_count": null,
   "id": "87cb4dd4",
   "metadata": {},
   "outputs": [],
   "source": [
    "str(o)"
   ]
  },
  {
   "cell_type": "code",
   "execution_count": null,
   "id": "e78d8d46",
   "metadata": {},
   "outputs": [],
   "source": [
    "str(\"o\")"
   ]
  },
  {
   "cell_type": "code",
   "execution_count": null,
   "id": "597b8a74",
   "metadata": {},
   "outputs": [],
   "source": [
    "str(True)"
   ]
  },
  {
   "cell_type": "code",
   "execution_count": null,
   "id": "1018d771",
   "metadata": {},
   "outputs": [],
   "source": [
    "str('True')"
   ]
  },
  {
   "cell_type": "code",
   "execution_count": null,
   "id": "ab02c8c8",
   "metadata": {},
   "outputs": [],
   "source": [
    "str(\"True\")"
   ]
  },
  {
   "cell_type": "code",
   "execution_count": null,
   "id": "e28e60a9",
   "metadata": {},
   "outputs": [],
   "source": [
    "str('true')"
   ]
  },
  {
   "cell_type": "code",
   "execution_count": null,
   "id": "a11b4cd2",
   "metadata": {},
   "outputs": [],
   "source": [
    "str(true)"
   ]
  },
  {
   "cell_type": "code",
   "execution_count": null,
   "id": "56555d4b",
   "metadata": {},
   "outputs": [],
   "source": [
    "str(12+1j)"
   ]
  },
  {
   "cell_type": "code",
   "execution_count": null,
   "id": "1f9450bb",
   "metadata": {},
   "outputs": [],
   "source": [
    "float(\"  \")"
   ]
  },
  {
   "cell_type": "code",
   "execution_count": null,
   "id": "2382fd1f",
   "metadata": {},
   "outputs": [],
   "source": [
    "a=10\n",
    "id(a)"
   ]
  },
  {
   "cell_type": "code",
   "execution_count": null,
   "id": "a00ff429",
   "metadata": {},
   "outputs": [],
   "source": [
    "a=9897\n",
    "id(a)"
   ]
  },
  {
   "cell_type": "code",
   "execution_count": null,
   "id": "4a3090de",
   "metadata": {},
   "outputs": [],
   "source": [
    "s=[2,3,1,3,4,2,0]\n",
    "s"
   ]
  },
  {
   "cell_type": "code",
   "execution_count": null,
   "id": "ca11773b",
   "metadata": {},
   "outputs": [],
   "source": [
    "s[0]"
   ]
  },
  {
   "cell_type": "code",
   "execution_count": null,
   "id": "8690eb51",
   "metadata": {},
   "outputs": [],
   "source": [
    "print(s[2])"
   ]
  },
  {
   "cell_type": "code",
   "execution_count": null,
   "id": "5b7b288c",
   "metadata": {},
   "outputs": [],
   "source": [
    "s[-6]"
   ]
  },
  {
   "cell_type": "code",
   "execution_count": null,
   "id": "ba8bce7c",
   "metadata": {},
   "outputs": [],
   "source": [
    "s.(10)\n",
    "s"
   ]
  },
  {
   "cell_type": "code",
   "execution_count": null,
   "id": "56b43e79",
   "metadata": {},
   "outputs": [],
   "source": [
    "a=0b10001\n",
    "print(a)"
   ]
  },
  {
   "cell_type": "code",
   "execution_count": null,
   "id": "dc23980e",
   "metadata": {},
   "outputs": [],
   "source": [
    "b=0o11101\n",
    "print(b)"
   ]
  },
  {
   "cell_type": "code",
   "execution_count": null,
   "id": "188e80c7",
   "metadata": {},
   "outputs": [],
   "source": []
  },
  {
   "cell_type": "code",
   "execution_count": null,
   "id": "36708958",
   "metadata": {},
   "outputs": [],
   "source": [
    "int(True)"
   ]
  },
  {
   "cell_type": "code",
   "execution_count": null,
   "id": "bb647f77",
   "metadata": {
    "scrolled": true
   },
   "outputs": [],
   "source": [
    "int(\"True\")"
   ]
  },
  {
   "cell_type": "code",
   "execution_count": null,
   "id": "ec82b2a0",
   "metadata": {},
   "outputs": [],
   "source": [
    "p=\"prashant\"\n",
    "print(p[1:100])"
   ]
  },
  {
   "cell_type": "code",
   "execution_count": null,
   "id": "c935320f",
   "metadata": {},
   "outputs": [],
   "source": [
    "print(p)"
   ]
  },
  {
   "cell_type": "code",
   "execution_count": null,
   "id": "81c10b10",
   "metadata": {},
   "outputs": [],
   "source": [
    "p*-3"
   ]
  },
  {
   "cell_type": "code",
   "execution_count": 34,
   "id": "75f3e62b",
   "metadata": {},
   "outputs": [
    {
     "data": {
      "text/plain": [
       "tuple"
      ]
     },
     "execution_count": 34,
     "metadata": {},
     "output_type": "execute_result"
    }
   ],
   "source": [
    "pr=(1,2,4,55,'rohit','virat','anuska')\n",
    "type(pr)"
   ]
  },
  {
   "cell_type": "code",
   "execution_count": 43,
   "id": "e947087c",
   "metadata": {},
   "outputs": [
    {
     "name": "stdout",
     "output_type": "stream",
     "text": [
      "2\n"
     ]
    }
   ],
   "source": [
    "print(pr[-6])\n"
   ]
  },
  {
   "cell_type": "code",
   "execution_count": null,
   "id": "ef8b3769",
   "metadata": {},
   "outputs": [],
   "source": []
  },
  {
   "cell_type": "code",
   "execution_count": 53,
   "id": "f379a573",
   "metadata": {},
   "outputs": [
    {
     "name": "stdout",
     "output_type": "stream",
     "text": [
      "1\n",
      "2\n",
      "3\n",
      "4\n",
      "5\n",
      "6\n",
      "7\n",
      "8\n",
      "9\n",
      "10\n"
     ]
    }
   ],
   "source": [
    "for j in range(1,11):\n",
    "    print(j)"
   ]
  },
  {
   "cell_type": "code",
   "execution_count": 54,
   "id": "365f2227",
   "metadata": {},
   "outputs": [
    {
     "name": "stdout",
     "output_type": "stream",
     "text": [
      "1\n",
      "2\n",
      "3\n",
      "4\n",
      "5\n",
      "6\n",
      "7\n",
      "8\n",
      "9\n",
      "10\n"
     ]
    }
   ],
   "source": [
    "for i in range(1,11,1):\n",
    "    print(i)"
   ]
  },
  {
   "cell_type": "code",
   "execution_count": 56,
   "id": "0f8dc3b4",
   "metadata": {},
   "outputs": [
    {
     "data": {
      "text/plain": [
       "range"
      ]
     },
     "execution_count": 56,
     "metadata": {},
     "output_type": "execute_result"
    }
   ],
   "source": [
    "r=range(5,10)\n",
    "type(r)"
   ]
  },
  {
   "cell_type": "code",
   "execution_count": 57,
   "id": "2cbad126",
   "metadata": {},
   "outputs": [
    {
     "data": {
      "text/plain": [
       "5"
      ]
     },
     "execution_count": 57,
     "metadata": {},
     "output_type": "execute_result"
    }
   ],
   "source": [
    "r[0]"
   ]
  },
  {
   "cell_type": "code",
   "execution_count": 59,
   "id": "96b47450",
   "metadata": {},
   "outputs": [
    {
     "data": {
      "text/plain": [
       "9"
      ]
     },
     "execution_count": 59,
     "metadata": {},
     "output_type": "execute_result"
    }
   ],
   "source": [
    "r[4]"
   ]
  },
  {
   "cell_type": "code",
   "execution_count": 60,
   "id": "35797f10",
   "metadata": {},
   "outputs": [
    {
     "data": {
      "text/plain": [
       "['p', 'a', 'n', 'k', 'a', 'j']"
      ]
     },
     "execution_count": 60,
     "metadata": {},
     "output_type": "execute_result"
    }
   ],
   "source": [
    "s=list(\"pankaj\")\n",
    "s"
   ]
  },
  {
   "cell_type": "code",
   "execution_count": 61,
   "id": "ab3dc7f2",
   "metadata": {},
   "outputs": [
    {
     "data": {
      "text/plain": [
       "('a', 'n', 's', 'h', 'a', 'n', 'k', 'a')"
      ]
     },
     "execution_count": 61,
     "metadata": {},
     "output_type": "execute_result"
    }
   ],
   "source": [
    "p=tuple('anshanka')\n",
    "p"
   ]
  },
  {
   "cell_type": "code",
   "execution_count": 62,
   "id": "1147eed3",
   "metadata": {},
   "outputs": [
    {
     "data": {
      "text/plain": [
       "[1, 2, 3, 4, 5, 6, 7, 8, 9]"
      ]
     },
     "execution_count": 62,
     "metadata": {},
     "output_type": "execute_result"
    }
   ],
   "source": [
    "l=list(range(1,10))\n",
    "l"
   ]
  },
  {
   "cell_type": "code",
   "execution_count": 64,
   "id": "572af9ec",
   "metadata": {},
   "outputs": [
    {
     "data": {
      "text/plain": [
       "[1, 2, 3, 4, 5, 6, 7, 8, 9, 'prashant']"
      ]
     },
     "execution_count": 64,
     "metadata": {},
     "output_type": "execute_result"
    }
   ],
   "source": [
    "l.append('prashant')\n",
    "l"
   ]
  },
  {
   "cell_type": "code",
   "execution_count": 63,
   "id": "8e6166a2",
   "metadata": {},
   "outputs": [
    {
     "name": "stdout",
     "output_type": "stream",
     "text": [
      "(3, 4, 5, 6, 7, 8, 9, 10, 11, 12, 13, 14, 15)\n"
     ]
    }
   ],
   "source": [
    "p=tuple(range(3,16))\n",
    "print(p)"
   ]
  },
  {
   "cell_type": "code",
   "execution_count": 79,
   "id": "8b71b743",
   "metadata": {},
   "outputs": [],
   "source": [
    "c=frozenset(k)\n"
   ]
  },
  {
   "cell_type": "code",
   "execution_count": 80,
   "id": "fae23d3d",
   "metadata": {},
   "outputs": [
    {
     "data": {
      "text/plain": [
       "frozenset"
      ]
     },
     "execution_count": 80,
     "metadata": {},
     "output_type": "execute_result"
    }
   ],
   "source": [
    "type(c)"
   ]
  },
  {
   "cell_type": "code",
   "execution_count": 82,
   "id": "27409af5",
   "metadata": {},
   "outputs": [
    {
     "ename": "AttributeError",
     "evalue": "'frozenset' object has no attribute 'remove'",
     "output_type": "error",
     "traceback": [
      "\u001b[1;31m---------------------------------------------------------------------------\u001b[0m",
      "\u001b[1;31mAttributeError\u001b[0m                            Traceback (most recent call last)",
      "Cell \u001b[1;32mIn[82], line 1\u001b[0m\n\u001b[1;32m----> 1\u001b[0m c\u001b[38;5;241m.\u001b[39mremove(\u001b[38;5;241m9\u001b[39m)\n",
      "\u001b[1;31mAttributeError\u001b[0m: 'frozenset' object has no attribute 'remove'"
     ]
    }
   ],
   "source": [
    "c.remove(9)"
   ]
  },
  {
   "cell_type": "code",
   "execution_count": 85,
   "id": "7b942789",
   "metadata": {},
   "outputs": [
    {
     "data": {
      "text/plain": [
       "dict"
      ]
     },
     "execution_count": 85,
     "metadata": {},
     "output_type": "execute_result"
    }
   ],
   "source": [
    "d={1:'amit',2:'rauki',3:'rohit'}\n",
    "type(d)"
   ]
  },
  {
   "cell_type": "code",
   "execution_count": 89,
   "id": "77991920",
   "metadata": {},
   "outputs": [
    {
     "name": "stdout",
     "output_type": "stream",
     "text": [
      "{1: 'amit', 2: 'rauki', 3: 'rohit', 5: 'ritik'}\n"
     ]
    }
   ],
   "source": [
    "d[5]=\"ritik\"\n",
    "print(d)"
   ]
  },
  {
   "cell_type": "code",
   "execution_count": 90,
   "id": "e1079d38",
   "metadata": {},
   "outputs": [
    {
     "data": {
      "text/plain": [
       "{1: 'amit', 2: 'rauki', 3: 'rohit', 5: 'ritik', 4: 'shubham'}"
      ]
     },
     "execution_count": 90,
     "metadata": {},
     "output_type": "execute_result"
    }
   ],
   "source": [
    "d[4]='shubham'\n",
    "d"
   ]
  },
  {
   "cell_type": "code",
   "execution_count": 97,
   "id": "44db25b5",
   "metadata": {},
   "outputs": [
    {
     "name": "stdout",
     "output_type": "stream",
     "text": [
      "12\n",
      "14\n"
     ]
    }
   ],
   "source": [
    "a=input()\n",
    "b=input()\n",
    "c=int(a)\n",
    "d=int(b)"
   ]
  },
  {
   "cell_type": "code",
   "execution_count": 100,
   "id": "002eb45a",
   "metadata": {},
   "outputs": [],
   "source": [
    "c=d"
   ]
  },
  {
   "cell_type": "code",
   "execution_count": 101,
   "id": "40baf409",
   "metadata": {},
   "outputs": [
    {
     "data": {
      "text/plain": [
       "14"
      ]
     },
     "execution_count": 101,
     "metadata": {},
     "output_type": "execute_result"
    }
   ],
   "source": [
    "c"
   ]
  },
  {
   "cell_type": "code",
   "execution_count": 111,
   "id": "94629c01",
   "metadata": {},
   "outputs": [
    {
     "name": "stdout",
     "output_type": "stream",
     "text": [
      "enter 1st no=97\n",
      "enter 2nd no=35\n",
      "enter 3rd no=31\n",
      "largest no= 97\n"
     ]
    }
   ],
   "source": [
    "a=int(input(\"enter 1st no=\"))\n",
    "b=int(input(\"enter 2nd no=\"))\n",
    "c= int(input(\"enter 3rd no=\"))\n",
    "d= a if(a>b and a>c) else(b if b>c else c)\n",
    "print('largest no=',d)"
   ]
  },
  {
   "cell_type": "code",
   "execution_count": 112,
   "id": "9c7c01c9",
   "metadata": {},
   "outputs": [
    {
     "name": "stdout",
     "output_type": "stream",
     "text": [
      "10 12 15\n"
     ]
    }
   ],
   "source": [
    "a=10\n",
    "b=12\n",
    "c=15\n",
    "print(a,b,c)"
   ]
  },
  {
   "cell_type": "code",
   "execution_count": 114,
   "id": "6744d78e",
   "metadata": {},
   "outputs": [
    {
     "name": "stdout",
     "output_type": "stream",
     "text": [
      "101215\n"
     ]
    }
   ],
   "source": [
    "print(a,b,c,sep='')"
   ]
  },
  {
   "cell_type": "code",
   "execution_count": 12,
   "id": "9b2db473",
   "metadata": {},
   "outputs": [
    {
     "data": {
      "text/plain": [
       "1"
      ]
     },
     "execution_count": 12,
     "metadata": {},
     "output_type": "execute_result"
    }
   ],
   "source": [
    "#operator\n",
    "#arthmetic opereator\n",
    "a=2\n",
    "a//2"
   ]
  },
  {
   "cell_type": "code",
   "execution_count": 13,
   "id": "e8571ea3",
   "metadata": {},
   "outputs": [
    {
     "data": {
      "text/plain": [
       "0"
      ]
     },
     "execution_count": 13,
     "metadata": {},
     "output_type": "execute_result"
    }
   ],
   "source": [
    "a%2"
   ]
  },
  {
   "cell_type": "code",
   "execution_count": 14,
   "id": "bc82d2aa",
   "metadata": {},
   "outputs": [
    {
     "data": {
      "text/plain": [
       "4"
      ]
     },
     "execution_count": 14,
     "metadata": {},
     "output_type": "execute_result"
    }
   ],
   "source": [
    "a*2"
   ]
  },
  {
   "cell_type": "code",
   "execution_count": 16,
   "id": "d402002b",
   "metadata": {},
   "outputs": [
    {
     "data": {
      "text/plain": [
       "32"
      ]
     },
     "execution_count": 16,
     "metadata": {},
     "output_type": "execute_result"
    }
   ],
   "source": [
    "a**5"
   ]
  },
  {
   "cell_type": "code",
   "execution_count": 27,
   "id": "f6a8981d",
   "metadata": {},
   "outputs": [
    {
     "data": {
      "text/plain": [
       "50.0"
      ]
     },
     "execution_count": 27,
     "metadata": {},
     "output_type": "execute_result"
    }
   ],
   "source": [
    "b=7\n",
    "20"
   ]
  },
  {
   "cell_type": "code",
   "execution_count": 32,
   "id": "812a6af5",
   "metadata": {},
   "outputs": [
    {
     "data": {
      "text/plain": [
       "False"
      ]
     },
     "execution_count": 32,
     "metadata": {},
     "output_type": "execute_result"
    }
   ],
   "source": [
    "#Relational operator\n",
    "100>=101\n"
   ]
  },
  {
   "cell_type": "code",
   "execution_count": 33,
   "id": "ca2fd430",
   "metadata": {},
   "outputs": [
    {
     "data": {
      "text/plain": [
       "True"
      ]
     },
     "execution_count": 33,
     "metadata": {},
     "output_type": "execute_result"
    }
   ],
   "source": [
    "102<=103"
   ]
  },
  {
   "cell_type": "code",
   "execution_count": 35,
   "id": "36ce89b4",
   "metadata": {},
   "outputs": [
    {
     "data": {
      "text/plain": [
       "True"
      ]
     },
     "execution_count": 35,
     "metadata": {},
     "output_type": "execute_result"
    }
   ],
   "source": [
    "\"prity\">'prashant'"
   ]
  },
  {
   "cell_type": "code",
   "execution_count": 42,
   "id": "7012faab",
   "metadata": {},
   "outputs": [
    {
     "data": {
      "text/plain": [
       "True"
      ]
     },
     "execution_count": 42,
     "metadata": {},
     "output_type": "execute_result"
    }
   ],
   "source": [
    "'nerraj'<'netu'"
   ]
  },
  {
   "cell_type": "code",
   "execution_count": 40,
   "id": "e37c31be",
   "metadata": {},
   "outputs": [
    {
     "data": {
      "text/plain": [
       "False"
      ]
     },
     "execution_count": 40,
     "metadata": {},
     "output_type": "execute_result"
    }
   ],
   "source": [
    "a>b"
   ]
  },
  {
   "cell_type": "code",
   "execution_count": 47,
   "id": "3bc94ee4",
   "metadata": {},
   "outputs": [
    {
     "data": {
      "text/plain": [
       "True"
      ]
     },
     "execution_count": 47,
     "metadata": {},
     "output_type": "execute_result"
    }
   ],
   "source": [
    "10<20<30<=30# channing is possible"
   ]
  },
  {
   "cell_type": "code",
   "execution_count": 38,
   "id": "a1e28b2a",
   "metadata": {},
   "outputs": [
    {
     "name": "stdout",
     "output_type": "stream",
     "text": [
      "enter your number=1\n",
      "enter your 2nd no=34\n"
     ]
    },
    {
     "data": {
      "text/plain": [
       "35"
      ]
     },
     "execution_count": 38,
     "metadata": {},
     "output_type": "execute_result"
    }
   ],
   "source": [
    "a=int(input(\"enter your number=\"))\n",
    "b=int(input(\"enter your 2nd no=\"))\n",
    "a+b"
   ]
  },
  {
   "cell_type": "code",
   "execution_count": 61,
   "id": "bf776b2c",
   "metadata": {},
   "outputs": [
    {
     "name": "stdout",
     "output_type": "stream",
     "text": [
      "enter 1st no=41\n",
      "enter 2nd no=56\n",
      "c= 4156\n"
     ]
    }
   ],
   "source": [
    "a=input(\"enter 1st no=\")\n",
    "b=input(\"enter 2nd no=\")\n",
    "c=a+b\n",
    "print('c=',c)"
   ]
  },
  {
   "cell_type": "code",
   "execution_count": 59,
   "id": "ed2e3b88",
   "metadata": {},
   "outputs": [
    {
     "data": {
      "text/plain": [
       "False"
      ]
     },
     "execution_count": 59,
     "metadata": {},
     "output_type": "execute_result"
    }
   ],
   "source": [
    "23==32"
   ]
  },
  {
   "cell_type": "code",
   "execution_count": 55,
   "id": "217d0777",
   "metadata": {},
   "outputs": [
    {
     "data": {
      "text/plain": [
       "True"
      ]
     },
     "execution_count": 55,
     "metadata": {},
     "output_type": "execute_result"
    }
   ],
   "source": [
    "23==23"
   ]
  },
  {
   "cell_type": "code",
   "execution_count": 56,
   "id": "07e33118",
   "metadata": {},
   "outputs": [
    {
     "data": {
      "text/plain": [
       "False"
      ]
     },
     "execution_count": 56,
     "metadata": {},
     "output_type": "execute_result"
    }
   ],
   "source": [
    "110==\"dangi\""
   ]
  },
  {
   "cell_type": "code",
   "execution_count": 62,
   "id": "709bce07",
   "metadata": {},
   "outputs": [
    {
     "data": {
      "text/plain": [
       "13"
      ]
     },
     "execution_count": 62,
     "metadata": {},
     "output_type": "execute_result"
    }
   ],
   "source": [
    "#Logical operator\n",
    "12 and 13"
   ]
  },
  {
   "cell_type": "code",
   "execution_count": 63,
   "id": "70c70a5e",
   "metadata": {},
   "outputs": [
    {
     "data": {
      "text/plain": [
       "0"
      ]
     },
     "execution_count": 63,
     "metadata": {},
     "output_type": "execute_result"
    }
   ],
   "source": [
    "0 and 12"
   ]
  },
  {
   "cell_type": "code",
   "execution_count": 64,
   "id": "04062731",
   "metadata": {},
   "outputs": [
    {
     "data": {
      "text/plain": [
       "'prashant'"
      ]
     },
     "execution_count": 64,
     "metadata": {},
     "output_type": "execute_result"
    }
   ],
   "source": [
    "12 and \"prashant\""
   ]
  },
  {
   "cell_type": "code",
   "execution_count": 65,
   "id": "7ef287ea",
   "metadata": {},
   "outputs": [
    {
     "data": {
      "text/plain": [
       "'dangi'"
      ]
     },
     "execution_count": 65,
     "metadata": {},
     "output_type": "execute_result"
    }
   ],
   "source": [
    "\"prashant\" and \"dangi\""
   ]
  },
  {
   "cell_type": "code",
   "execution_count": 66,
   "id": "89f77c81",
   "metadata": {},
   "outputs": [
    {
     "data": {
      "text/plain": [
       "0"
      ]
     },
     "execution_count": 66,
     "metadata": {},
     "output_type": "execute_result"
    }
   ],
   "source": [
    "12 and 0"
   ]
  },
  {
   "cell_type": "code",
   "execution_count": 67,
   "id": "1a02af94",
   "metadata": {},
   "outputs": [
    {
     "data": {
      "text/plain": [
       "''"
      ]
     },
     "execution_count": 67,
     "metadata": {},
     "output_type": "execute_result"
    }
   ],
   "source": [
    "\"\" and 3"
   ]
  },
  {
   "cell_type": "code",
   "execution_count": 69,
   "id": "9793de81",
   "metadata": {},
   "outputs": [
    {
     "data": {
      "text/plain": [
       "'a'"
      ]
     },
     "execution_count": 69,
     "metadata": {},
     "output_type": "execute_result"
    }
   ],
   "source": [
    " \"a\" or  \"b\""
   ]
  },
  {
   "cell_type": "code",
   "execution_count": 74,
   "id": "27ce39b1",
   "metadata": {},
   "outputs": [
    {
     "data": {
      "text/plain": [
       "1"
      ]
     },
     "execution_count": 74,
     "metadata": {},
     "output_type": "execute_result"
    }
   ],
   "source": [
    " 1 or 'v'"
   ]
  },
  {
   "cell_type": "code",
   "execution_count": 79,
   "id": "cccc741d",
   "metadata": {},
   "outputs": [
    {
     "data": {
      "text/plain": [
       "'singh'"
      ]
     },
     "execution_count": 79,
     "metadata": {},
     "output_type": "execute_result"
    }
   ],
   "source": [
    " \"\" or 'singh'"
   ]
  },
  {
   "cell_type": "code",
   "execution_count": 80,
   "id": "52b75b72",
   "metadata": {},
   "outputs": [
    {
     "data": {
      "text/plain": [
       "False"
      ]
     },
     "execution_count": 80,
     "metadata": {},
     "output_type": "execute_result"
    }
   ],
   "source": [
    "not(3)"
   ]
  },
  {
   "cell_type": "code",
   "execution_count": 81,
   "id": "1277a1d5",
   "metadata": {},
   "outputs": [
    {
     "data": {
      "text/plain": [
       "True"
      ]
     },
     "execution_count": 81,
     "metadata": {},
     "output_type": "execute_result"
    }
   ],
   "source": [
    "not('')"
   ]
  },
  {
   "cell_type": "code",
   "execution_count": 82,
   "id": "ec0cf0bd",
   "metadata": {},
   "outputs": [
    {
     "data": {
      "text/plain": [
       "True"
      ]
     },
     "execution_count": 82,
     "metadata": {},
     "output_type": "execute_result"
    }
   ],
   "source": [
    "not(0)"
   ]
  },
  {
   "cell_type": "code",
   "execution_count": 83,
   "id": "550178cc",
   "metadata": {},
   "outputs": [
    {
     "data": {
      "text/plain": [
       "False"
      ]
     },
     "execution_count": 83,
     "metadata": {},
     "output_type": "execute_result"
    }
   ],
   "source": [
    "not('kumar')"
   ]
  },
  {
   "cell_type": "code",
   "execution_count": 85,
   "id": "10778538",
   "metadata": {},
   "outputs": [
    {
     "data": {
      "text/plain": [
       "0"
      ]
     },
     "execution_count": 85,
     "metadata": {},
     "output_type": "execute_result"
    }
   ],
   "source": [
    " \"\"or 0"
   ]
  },
  {
   "cell_type": "code",
   "execution_count": 88,
   "id": "fb212fe1",
   "metadata": {},
   "outputs": [
    {
     "data": {
      "text/plain": [
       "1"
      ]
     },
     "execution_count": 88,
     "metadata": {},
     "output_type": "execute_result"
    }
   ],
   "source": [
    " 9 & 7"
   ]
  },
  {
   "cell_type": "code",
   "execution_count": 89,
   "id": "53d1af61",
   "metadata": {},
   "outputs": [
    {
     "data": {
      "text/plain": [
       "1"
      ]
     },
     "execution_count": 89,
     "metadata": {},
     "output_type": "execute_result"
    }
   ],
   "source": [
    "33 & 67"
   ]
  },
  {
   "cell_type": "code",
   "execution_count": 90,
   "id": "22072ab1",
   "metadata": {},
   "outputs": [
    {
     "data": {
      "text/plain": [
       "99"
      ]
     },
     "execution_count": 90,
     "metadata": {},
     "output_type": "execute_result"
    }
   ],
   "source": [
    "33 | 67"
   ]
  },
  {
   "cell_type": "code",
   "execution_count": 92,
   "id": "d25ab416",
   "metadata": {},
   "outputs": [
    {
     "data": {
      "text/plain": [
       "15"
      ]
     },
     "execution_count": 92,
     "metadata": {},
     "output_type": "execute_result"
    }
   ],
   "source": [
    "9|7"
   ]
  },
  {
   "cell_type": "code",
   "execution_count": 93,
   "id": "01b3a84a",
   "metadata": {},
   "outputs": [
    {
     "data": {
      "text/plain": [
       "14"
      ]
     },
     "execution_count": 93,
     "metadata": {},
     "output_type": "execute_result"
    }
   ],
   "source": [
    "9 ^ 7# XOR operator"
   ]
  },
  {
   "cell_type": "code",
   "execution_count": 94,
   "id": "143dcb61",
   "metadata": {},
   "outputs": [
    {
     "data": {
      "text/plain": [
       "98"
      ]
     },
     "execution_count": 94,
     "metadata": {},
     "output_type": "execute_result"
    }
   ],
   "source": [
    "33^67"
   ]
  },
  {
   "cell_type": "code",
   "execution_count": 102,
   "id": "a950aebc",
   "metadata": {},
   "outputs": [
    {
     "data": {
      "text/plain": [
       "24"
      ]
     },
     "execution_count": 102,
     "metadata": {},
     "output_type": "execute_result"
    }
   ],
   "source": [
    "a=23\n",
    "a=a+1\n",
    "a"
   ]
  },
  {
   "cell_type": "code",
   "execution_count": 103,
   "id": "14d2bb4f",
   "metadata": {},
   "outputs": [
    {
     "data": {
      "text/plain": [
       "25"
      ]
     },
     "execution_count": 103,
     "metadata": {},
     "output_type": "execute_result"
    }
   ],
   "source": [
    "a+=1\n",
    "a"
   ]
  },
  {
   "cell_type": "code",
   "execution_count": 107,
   "id": "8fddf357",
   "metadata": {},
   "outputs": [
    {
     "data": {
      "text/plain": [
       "2.0"
      ]
     },
     "execution_count": 107,
     "metadata": {},
     "output_type": "execute_result"
    }
   ],
   "source": [
    "b=25\n",
    "b//=10.0\n",
    "b"
   ]
  },
  {
   "cell_type": "code",
   "execution_count": 113,
   "id": "6e365560",
   "metadata": {},
   "outputs": [
    {
     "data": {
      "text/plain": [
       "4.8"
      ]
     },
     "execution_count": 113,
     "metadata": {},
     "output_type": "execute_result"
    }
   ],
   "source": [
    "c=24\n",
    "c/5\n"
   ]
  },
  {
   "cell_type": "code",
   "execution_count": 114,
   "id": "d929c1f1",
   "metadata": {},
   "outputs": [
    {
     "data": {
      "text/plain": [
       "4.0"
      ]
     },
     "execution_count": 114,
     "metadata": {},
     "output_type": "execute_result"
    }
   ],
   "source": [
    "c//5.0"
   ]
  },
  {
   "cell_type": "code",
   "execution_count": 115,
   "id": "5f8892af",
   "metadata": {},
   "outputs": [
    {
     "data": {
      "text/plain": [
       "140"
      ]
     },
     "execution_count": 115,
     "metadata": {},
     "output_type": "execute_result"
    }
   ],
   "source": [
    "a=35\n",
    "a=a<<2\n",
    "a"
   ]
  },
  {
   "cell_type": "code",
   "execution_count": 119,
   "id": "cd19f4c8",
   "metadata": {},
   "outputs": [
    {
     "name": "stdout",
     "output_type": "stream",
     "text": [
      "4\n"
     ]
    }
   ],
   "source": [
    "a,b,c=2,3,4\n",
    "d= a if (a>b and a>c) else( b if b>c else c)\n",
    "print(d)"
   ]
  },
  {
   "cell_type": "code",
   "execution_count": 129,
   "id": "f19a63c8",
   "metadata": {},
   "outputs": [
    {
     "data": {
      "text/plain": [
       "140706868269832"
      ]
     },
     "execution_count": 129,
     "metadata": {},
     "output_type": "execute_result"
    }
   ],
   "source": [
    "a,b=0,0\n",
    "id(a)\n"
   ]
  },
  {
   "cell_type": "code",
   "execution_count": 130,
   "id": "6d423998",
   "metadata": {},
   "outputs": [
    {
     "data": {
      "text/plain": [
       "140706868269832"
      ]
     },
     "execution_count": 130,
     "metadata": {},
     "output_type": "execute_result"
    }
   ],
   "source": [
    "id(b)\n"
   ]
  },
  {
   "cell_type": "code",
   "execution_count": 131,
   "id": "561c16b1",
   "metadata": {},
   "outputs": [
    {
     "data": {
      "text/plain": [
       "True"
      ]
     },
     "execution_count": 131,
     "metadata": {},
     "output_type": "execute_result"
    }
   ],
   "source": [
    "a is b"
   ]
  },
  {
   "cell_type": "code",
   "execution_count": 136,
   "id": "7ce0b30a",
   "metadata": {},
   "outputs": [
    {
     "data": {
      "text/plain": [
       "2492085004416"
      ]
     },
     "execution_count": 136,
     "metadata": {},
     "output_type": "execute_result"
    }
   ],
   "source": [
    "l=[1.2,3,5,\"prashnt\",'dangi']\n",
    "m=[1.2,3,5,\"prashnt\",'dangi']\n",
    "id(l)"
   ]
  },
  {
   "cell_type": "code",
   "execution_count": 137,
   "id": "ed51efa2",
   "metadata": {},
   "outputs": [
    {
     "data": {
      "text/plain": [
       "2492098541824"
      ]
     },
     "execution_count": 137,
     "metadata": {},
     "output_type": "execute_result"
    }
   ],
   "source": [
    "id(m)"
   ]
  },
  {
   "cell_type": "code",
   "execution_count": 138,
   "id": "6432c4c4",
   "metadata": {},
   "outputs": [
    {
     "data": {
      "text/plain": [
       "False"
      ]
     },
     "execution_count": 138,
     "metadata": {},
     "output_type": "execute_result"
    }
   ],
   "source": [
    "l is m"
   ]
  },
  {
   "cell_type": "code",
   "execution_count": 139,
   "id": "86cde4f8",
   "metadata": {},
   "outputs": [
    {
     "data": {
      "text/plain": [
       "True"
      ]
     },
     "execution_count": 139,
     "metadata": {},
     "output_type": "execute_result"
    }
   ],
   "source": [
    "l==m"
   ]
  },
  {
   "cell_type": "code",
   "execution_count": 140,
   "id": "e6df725b",
   "metadata": {},
   "outputs": [
    {
     "data": {
      "text/plain": [
       "('p', 'r', 'a', 's', 'h', 'n', 't')"
      ]
     },
     "execution_count": 140,
     "metadata": {},
     "output_type": "execute_result"
    }
   ],
   "source": [
    "p='prashnt'\n",
    "l=tuple(p)\n",
    "l"
   ]
  },
  {
   "cell_type": "code",
   "execution_count": 141,
   "id": "ea29505b",
   "metadata": {},
   "outputs": [
    {
     "data": {
      "text/plain": [
       "True"
      ]
     },
     "execution_count": 141,
     "metadata": {},
     "output_type": "execute_result"
    }
   ],
   "source": [
    "#Membership operator\n",
    "l=\"pratiyush raj dangi\"\n",
    "\"p\" in l"
   ]
  },
  {
   "cell_type": "code",
   "execution_count": 143,
   "id": "5a8c5ef5",
   "metadata": {},
   "outputs": [
    {
     "data": {
      "text/plain": [
       "False"
      ]
     },
     "execution_count": 143,
     "metadata": {},
     "output_type": "execute_result"
    }
   ],
   "source": [
    "'raaj' in l"
   ]
  },
  {
   "cell_type": "code",
   "execution_count": 144,
   "id": "23040772",
   "metadata": {},
   "outputs": [
    {
     "data": {
      "text/plain": [
       "True"
      ]
     },
     "execution_count": 144,
     "metadata": {},
     "output_type": "execute_result"
    }
   ],
   "source": [
    "'raj dangi' in l"
   ]
  },
  {
   "cell_type": "code",
   "execution_count": 145,
   "id": "3ee98c18",
   "metadata": {},
   "outputs": [
    {
     "data": {
      "text/plain": [
       "False"
      ]
     },
     "execution_count": 145,
     "metadata": {},
     "output_type": "execute_result"
    }
   ],
   "source": [
    "'pratiyush dangi' in l"
   ]
  },
  {
   "cell_type": "code",
   "execution_count": 147,
   "id": "319759ba",
   "metadata": {},
   "outputs": [
    {
     "data": {
      "text/plain": [
       "True"
      ]
     },
     "execution_count": 147,
     "metadata": {},
     "output_type": "execute_result"
    }
   ],
   "source": [
    "\"singh \" not in l"
   ]
  },
  {
   "cell_type": "code",
   "execution_count": 155,
   "id": "76d3fdd7",
   "metadata": {
    "scrolled": true
   },
   "outputs": [
    {
     "name": "stdout",
     "output_type": "stream",
     "text": [
      "True\n"
     ]
    }
   ],
   "source": [
    "print(\" dangi\" in l)"
   ]
  },
  {
   "cell_type": "code",
   "execution_count": 156,
   "id": "d9ca0d1b",
   "metadata": {},
   "outputs": [
    {
     "name": "stdout",
     "output_type": "stream",
     "text": [
      "True\n"
     ]
    }
   ],
   "source": [
    "print(\"\")"
   ]
  },
  {
   "cell_type": "code",
   "execution_count": 162,
   "id": "cbad65ad",
   "metadata": {},
   "outputs": [
    {
     "name": "stdout",
     "output_type": "stream",
     "text": [
      "True\n"
     ]
    }
   ],
   "source": [
    "print(True)"
   ]
  },
  {
   "cell_type": "code",
   "execution_count": 170,
   "id": "3856ba56",
   "metadata": {},
   "outputs": [
    {
     "name": "stdout",
     "output_type": "stream",
     "text": [
      "10&30&60\n"
     ]
    }
   ],
   "source": [
    "#input output\n",
    "a,b,c=10,30,60\n",
    "print(a,b,c,sep='&')"
   ]
  },
  {
   "cell_type": "code",
   "execution_count": 171,
   "id": "a2c3d6d8",
   "metadata": {},
   "outputs": [
    {
     "name": "stdout",
     "output_type": "stream",
     "text": [
      "prashant kumar dangi\n"
     ]
    }
   ],
   "source": [
    "a,b,c='prashant','kumar','dangi'\n",
    "print(a,b,c)"
   ]
  },
  {
   "cell_type": "code",
   "execution_count": 172,
   "id": "612c5b52",
   "metadata": {},
   "outputs": [
    {
     "name": "stdout",
     "output_type": "stream",
     "text": [
      "pankajkumar\n"
     ]
    }
   ],
   "source": [
    "print(\"pankaj\"+\"kumar\")"
   ]
  },
  {
   "cell_type": "code",
   "execution_count": 173,
   "id": "03af9f55",
   "metadata": {},
   "outputs": [
    {
     "name": "stdout",
     "output_type": "stream",
     "text": [
      "pankaj kumar\n"
     ]
    }
   ],
   "source": [
    "print(\"pankaj\",\"kumar\")"
   ]
  },
  {
   "cell_type": "code",
   "execution_count": 176,
   "id": "2105af5c",
   "metadata": {},
   "outputs": [
    {
     "name": "stdout",
     "output_type": "stream",
     "text": [
      "ritik kumar roushan "
     ]
    }
   ],
   "source": [
    "print(\"ritik\",end=' ')\n",
    "print(\"kumar\",end=' ')\n",
    "print(\"roushan\",end=' ')"
   ]
  },
  {
   "cell_type": "code",
   "execution_count": 183,
   "id": "c093fb8c",
   "metadata": {},
   "outputs": [
    {
     "name": "stdout",
     "output_type": "stream",
     "text": [
      "hello\n",
      " bachho\n"
     ]
    }
   ],
   "source": [
    "print(\"hello\\n bachho\")"
   ]
  },
  {
   "cell_type": "code",
   "execution_count": 184,
   "id": "ca7bad44",
   "metadata": {},
   "outputs": [
    {
     "name": "stdout",
     "output_type": "stream",
     "text": [
      "1\n",
      "2\n",
      "3\n"
     ]
    }
   ],
   "source": [
    "print(\"1\")\n",
    "print(\"2\")\n",
    "print(\"3\")"
   ]
  },
  {
   "cell_type": "code",
   "execution_count": 186,
   "id": "732d1740",
   "metadata": {
    "collapsed": true
   },
   "outputs": [
    {
     "name": "stdout",
     "output_type": "stream",
     "text": [
      "4\n",
      "pankaj\n"
     ]
    }
   ],
   "source": [
    "a=int(input())\n",
    "if(a%2==0):\n",
    "    print(\"pankaj\")"
   ]
  },
  {
   "cell_type": "code",
   "execution_count": 207,
   "id": "c9c841ff",
   "metadata": {},
   "outputs": [
    {
     "name": "stdout",
     "output_type": "stream",
     "text": [
      "enter your gratuaation year=3\n",
      "acche tarh \n"
     ]
    }
   ],
   "source": [
    "a=int(input(\"enter your gratuaation year=\"))\n",
    "if (a==1):\n",
    "     print(\"socho\")\n",
    "elif (a==2):\n",
    "      print(\"acche tarh socho\")\n",
    "elif (a==3):\n",
    "      print(\"acche tarh \") \n",
    "elif (a==4):\n",
    "         print(\"ab soche  ka timme gaya\")\n",
    "else:\n",
    "         print(\"ram bhaose\")\n",
    "          "
   ]
  },
  {
   "cell_type": "code",
   "execution_count": 208,
   "id": "017b916f",
   "metadata": {},
   "outputs": [
    {
     "name": "stdout",
     "output_type": "stream",
     "text": [
      "p\n",
      "a\n",
      "n\n",
      "k\n",
      "a\n",
      "j\n"
     ]
    }
   ],
   "source": [
    "#for loop\n",
    "for i in \"pankaj\":\n",
    "    print(i)"
   ]
  },
  {
   "cell_type": "code",
   "execution_count": 210,
   "id": "47e2e3e4",
   "metadata": {},
   "outputs": [],
   "source": [
    "for i in range(5,1):\n",
    "    print(i)"
   ]
  },
  {
   "cell_type": "code",
   "execution_count": 212,
   "id": "9a0fbea9",
   "metadata": {},
   "outputs": [
    {
     "name": "stdout",
     "output_type": "stream",
     "text": [
      "120\n"
     ]
    }
   ],
   "source": [
    "a=1\n",
    "for i in range(1,6):\n",
    "    a=a*i\n",
    "print(a)    "
   ]
  },
  {
   "cell_type": "code",
   "execution_count": 5,
   "id": "55500f1e",
   "metadata": {},
   "outputs": [
    {
     "name": "stdout",
     "output_type": "stream",
     "text": [
      "enter no=[\"prashant\",\"dangi\",1,2,3,4,5]\n"
     ]
    },
    {
     "ename": "TypeError",
     "evalue": "unsupported operand type(s) for +: 'int' and 'str'",
     "output_type": "error",
     "traceback": [
      "\u001b[1;31m---------------------------------------------------------------------------\u001b[0m",
      "\u001b[1;31mTypeError\u001b[0m                                 Traceback (most recent call last)",
      "Cell \u001b[1;32mIn[5], line 5\u001b[0m\n\u001b[0;32m      3\u001b[0m \u001b[38;5;28msum\u001b[39m\u001b[38;5;241m=\u001b[39m\u001b[38;5;241m0\u001b[39m\n\u001b[0;32m      4\u001b[0m \u001b[38;5;28;01mfor\u001b[39;00m x \u001b[38;5;129;01min\u001b[39;00m l:\n\u001b[1;32m----> 5\u001b[0m     \u001b[38;5;28msum\u001b[39m\u001b[38;5;241m=\u001b[39m\u001b[38;5;28msum\u001b[39m\u001b[38;5;241m+\u001b[39mx\n\u001b[0;32m      6\u001b[0m \u001b[38;5;28mprint\u001b[39m(\u001b[38;5;124m\"\u001b[39m\u001b[38;5;124msum of given collection is\u001b[39m\u001b[38;5;124m\"\u001b[39m,\u001b[38;5;28msum\u001b[39m)\n",
      "\u001b[1;31mTypeError\u001b[0m: unsupported operand type(s) for +: 'int' and 'str'"
     ]
    }
   ],
   "source": [
    "l=eval(input(\"enter no=\"))\n",
    "type(l)\n",
    "sum=0\n",
    "for x in l:\n",
    "    sum=sum+x\n",
    "print(\"sum of given collection is\",sum)"
   ]
  },
  {
   "cell_type": "code",
   "execution_count": 18,
   "id": "9d578f32",
   "metadata": {},
   "outputs": [
    {
     "name": "stdout",
     "output_type": "stream",
     "text": [
      "the element at index 0 is p\n",
      "the element at index 1 is r\n",
      "the element at index 2 is a\n",
      "the element at index 3 is s\n",
      "the element at index 4 is a\n",
      "the element at index 5 is h\n",
      "the element at index 6 is n\n",
      "the element at index 7 is t\n"
     ]
    }
   ],
   "source": [
    "a='prasahnt'\n",
    "i=0\n",
    "for x in a:\n",
    "    print(\"the element at index\",i,\"is\",x)\n",
    "    i=i+1"
   ]
  },
  {
   "cell_type": "code",
   "execution_count": 10,
   "id": "815694c4",
   "metadata": {},
   "outputs": [
    {
     "name": "stdout",
     "output_type": "stream",
     "text": [
      "5\n",
      "4\n",
      "3\n",
      "2\n"
     ]
    }
   ],
   "source": [
    "for i in range(5,1,-1):\n",
    "    print(i)"
   ]
  },
  {
   "cell_type": "code",
   "execution_count": 29,
   "id": "8e5a1591",
   "metadata": {},
   "outputs": [
    {
     "name": "stdout",
     "output_type": "stream",
     "text": [
      "enter any no=10\n",
      "sum of all factor is 18\n"
     ]
    }
   ],
   "source": [
    "#sum of all factor of number by me\n",
    "sum=0\n",
    "a=int(input(\"enter any no=\"))\n",
    "for i in range(1,a+1):\n",
    "    if(a%i==0):\n",
    "     sum=sum+i\n",
    "print(\"sum of all factor is\",sum)"
   ]
  },
  {
   "cell_type": "code",
   "execution_count": null,
   "id": "7797e2d7",
   "metadata": {},
   "outputs": [],
   "source": [
    "#prime number\n",
    "n=int(input(\"enter no=\"))\n",
    "for i in range(1,n+1):\n",
    "    if(n%1==0 and n%n==0):\n",
    "        print(\"prime n0=\",n)\n",
    "    else:\n",
    "            print(\"not prime no=\",n)"
   ]
  },
  {
   "cell_type": "code",
   "execution_count": 43,
   "id": "0cd97981",
   "metadata": {},
   "outputs": [
    {
     "name": "stdout",
     "output_type": "stream",
     "text": [
      "enter yourno=14\n",
      "factor is 1\n",
      "factor is 2\n",
      "factor is 7\n",
      "factor is 14\n"
     ]
    }
   ],
   "source": [
    "#factor of a number using while loop\n",
    "i=1\n",
    "n=int(input(\"enter yourno=\"))\n",
    "while(n>=i):\n",
    "    if(n%i==0):\n",
    "        print(\"factor is\",i)\n",
    "    i+=1\n",
    "   "
   ]
  },
  {
   "cell_type": "code",
   "execution_count": 45,
   "id": "453e654f",
   "metadata": {},
   "outputs": [
    {
     "name": "stdout",
     "output_type": "stream",
     "text": [
      "enter no=16\n",
      "1\n",
      "2\n",
      "4\n",
      "8\n",
      "16\n"
     ]
    }
   ],
   "source": [
    "# fsctor using for loop\n",
    "i=1\n",
    "n=int(input(\"enter no=\"))\n",
    "for i in range(1,n+1):\n",
    "    if(n%i==0):\n",
    "        print(i)\n",
    "    i+=1    "
   ]
  },
  {
   "cell_type": "code",
   "execution_count": null,
   "id": "23c8c9cd",
   "metadata": {},
   "outputs": [],
   "source": [
    "#adding factor in list\n",
    "i=1\n",
    "n=int(input(\"enter no=\"))\n",
    "l=[]\n",
    "for i in range(1,n+1):\n",
    "    if(n%i==0):\n",
    "        l.append(i)\n",
    "    i+=1\n",
    "print(l)   \n",
    "    "
   ]
  },
  {
   "cell_type": "code",
   "execution_count": 8,
   "id": "55941999",
   "metadata": {},
   "outputs": [
    {
     "name": "stdout",
     "output_type": "stream",
     "text": [
      "enter no=6\n",
      "6 is perfect no\n"
     ]
    }
   ],
   "source": [
    "#perfect no\n",
    "n=int(input(\"enter no=\"))\n",
    "sum=0\n",
    "for i in range(1,n):\n",
    "    if(n%i==0):\n",
    "        sum=sum+i\n",
    "if(sum==n):\n",
    "    print(sum,\"is perfect no\")\n",
    "else:\n",
    "    print(\"not perfect no\")"
   ]
  },
  {
   "cell_type": "code",
   "execution_count": 5,
   "id": "6a887868",
   "metadata": {},
   "outputs": [
    {
     "name": "stdout",
     "output_type": "stream",
     "text": [
      "enter no=999999999999\n",
      "sum of all digit is 108\n"
     ]
    }
   ],
   "source": [
    "#sum of given digit\n",
    "n=int(input(\"enter no=\"))\n",
    "sum=0\n",
    "a=0\n",
    "while(n!=0):\n",
    "    a=n%10\n",
    "    sum=sum+a\n",
    "    n=n//10\n",
    "print(\"sum of all digit is\",sum)    "
   ]
  },
  {
   "cell_type": "code",
   "execution_count": 15,
   "id": "755f3f18",
   "metadata": {},
   "outputs": [
    {
     "name": "stdout",
     "output_type": "stream",
     "text": [
      "enter your no=343\n",
      "343 is not strong number\n"
     ]
    }
   ],
   "source": [
    "#Armstrong number\n",
    "\n",
    "sum=0\n",
    "n=int(input(\"enter your no=\"))\n",
    "d=n\n",
    "while(n!=0):\n",
    "    last=n%10\n",
    "    fact=1\n",
    "    for i in range(1,last+1):\n",
    "        fact=fact*i\n",
    "    sum=sum+fact\n",
    "    n=n//10\n",
    "if(d==sum):\n",
    "    print(d,\"is strong number\")\n",
    "else:\n",
    "    print(d,\"is not strong number\")"
   ]
  },
  {
   "cell_type": "code",
   "execution_count": 1,
   "id": "1d94b95b",
   "metadata": {},
   "outputs": [
    {
     "name": "stdout",
     "output_type": "stream",
     "text": [
      "128\n"
     ]
    }
   ],
   "source": [
    "#power of a to the b\n",
    "prod=1\n",
    "\n",
    "for i in range(1,7+1):\n",
    "    prod=prod*2\n",
    "print(prod)    "
   ]
  },
  {
   "cell_type": "code",
   "execution_count": null,
   "id": "f55e6473",
   "metadata": {},
   "outputs": [
    {
     "name": "stdout",
     "output_type": "stream",
     "text": [
      "enter your number=184\n"
     ]
    }
   ],
   "source": [
    "#Armstrong number for any no of digit containing\n",
    "n=int(input(\"enter your number=\"))\n",
    "a=n\n",
    "b=n\n",
    "sum=0\n",
    "#concept for calculating no of digit\n",
    "c=0\n",
    "while(n>0):\n",
    "    n=n%10\n",
    "    c=c+1\n",
    "#logic for armstrong\n",
    "while(a>0):\n",
    "    last=a%10\n",
    "    sum=sum+last**c\n",
    "    a=a//10\n",
    "if(sum==b):\n",
    "    print(b,\"is armstrong number\")\n",
    "else:\n",
    "    print(b,\"is not armstrong number\")"
   ]
  },
  {
   "cell_type": "code",
   "execution_count": 5,
   "id": "48f7adb5",
   "metadata": {},
   "outputs": [
    {
     "name": "stdout",
     "output_type": "stream",
     "text": [
      "pankaj\n",
      "1\n",
      "pankaj\n",
      "2\n",
      "pankaj\n",
      "pankaj\n",
      "4\n",
      "pankaj\n",
      "5\n",
      "pankaj\n",
      "pankaj\n",
      "7\n",
      "pankaj\n",
      "8\n",
      "pankaj\n",
      "pankaj\n",
      "10\n"
     ]
    }
   ],
   "source": [
    "#continue\n",
    "for i in range(1,11):\n",
    "    print(\"pankaj\")\n",
    "    if(i%3==0):\n",
    "        continue\n",
    "    print(i)"
   ]
  },
  {
   "cell_type": "code",
   "execution_count": 1,
   "id": "d24fc277",
   "metadata": {},
   "outputs": [
    {
     "name": "stdout",
     "output_type": "stream",
     "text": [
      "1\n",
      "2\n"
     ]
    }
   ],
   "source": [
    "for i in range(1,11):\n",
    "    if(i%3==0):\n",
    "        break\n",
    "    print(i)"
   ]
  },
  {
   "cell_type": "code",
   "execution_count": 8,
   "id": "814c9489",
   "metadata": {},
   "outputs": [
    {
     "name": "stdout",
     "output_type": "stream",
     "text": [
      "123412341234"
     ]
    }
   ],
   "source": [
    "for i in range(1,4):\n",
    "    for j in range(1,5):\n",
    "        print(j,end='')"
   ]
  },
  {
   "cell_type": "code",
   "execution_count": 9,
   "id": "f7f869cb",
   "metadata": {},
   "outputs": [
    {
     "name": "stdout",
     "output_type": "stream",
     "text": [
      "1 1\n",
      "1 2\n",
      "1 3\n",
      "1 4\n",
      "2 1\n",
      "2 2\n",
      "2 3\n",
      "2 4\n",
      "3 1\n",
      "3 2\n",
      "3 3\n",
      "3 4\n"
     ]
    }
   ],
   "source": [
    "for i in range(1,4):\n",
    "    for j in range(1,5):\n",
    "        print(i,j)\n",
    "    print()"
   ]
  },
  {
   "cell_type": "code",
   "execution_count": 10,
   "id": "14dd7cb1",
   "metadata": {},
   "outputs": [
    {
     "name": "stdout",
     "output_type": "stream",
     "text": [
      "1 11 21 31 4\n",
      "2 12 22 32 4\n",
      "3 13 23 33 4\n"
     ]
    }
   ],
   "source": [
    "for i in range(1,4):\n",
    "    for j in range(1,5):\n",
    "        print(i,j,end='')\n",
    "    print()"
   ]
  },
  {
   "cell_type": "code",
   "execution_count": 11,
   "id": "77eedf5a",
   "metadata": {},
   "outputs": [
    {
     "name": "stdout",
     "output_type": "stream",
     "text": [
      "1 1 1 2 1 3 1 4 \n",
      "2 1 2 2 2 3 2 4 \n",
      "3 1 3 2 3 3 3 4 \n"
     ]
    }
   ],
   "source": [
    "for i in range(1,4):\n",
    "    for j in range(1,5):\n",
    "        print(i,j,end=' ')\n",
    "    print()"
   ]
  },
  {
   "cell_type": "code",
   "execution_count": 12,
   "id": "cbc483f8",
   "metadata": {},
   "outputs": [
    {
     "name": "stdout",
     "output_type": "stream",
     "text": [
      "11 12 13 14 \n",
      "21 22 23 24 \n",
      "31 32 33 34 \n"
     ]
    }
   ],
   "source": [
    "for i in range(1,4):\n",
    "    for j in range(1,5):\n",
    "        print(i,j,sep=\"\",end=' ')\n",
    "    print()"
   ]
  },
  {
   "cell_type": "code",
   "execution_count": 15,
   "id": "03fc6399",
   "metadata": {},
   "outputs": [
    {
     "name": "stdout",
     "output_type": "stream",
     "text": [
      "1\n",
      "12\n",
      "123\n",
      "1234\n"
     ]
    }
   ],
   "source": [
    "#pattern\n",
    "for i in range(1,5):\n",
    "    for j in range(1,i+1):\n",
    "        print(j,sep=\"\",end=\"\")\n",
    "    print()\n",
    "        "
   ]
  },
  {
   "cell_type": "code",
   "execution_count": 2,
   "id": "32588837",
   "metadata": {},
   "outputs": [
    {
     "name": "stdout",
     "output_type": "stream",
     "text": [
      "enter no=12\n",
      "1\n",
      "22\n",
      "333\n",
      "4444\n",
      "55555\n",
      "666666\n",
      "7777777\n",
      "88888888\n",
      "999999999\n",
      "10101010101010101010\n",
      "1111111111111111111111\n",
      "121212121212121212121212\n"
     ]
    }
   ],
   "source": [
    "#pattern\n",
    "n=int(input(\"enter no=\"))\n",
    "for i in range(1,n+1):\n",
    "    for j in range(1,i+1):\n",
    "        print(i,end=\"\")\n",
    "    print()\n",
    "        "
   ]
  },
  {
   "cell_type": "code",
   "execution_count": 5,
   "id": "885c082b",
   "metadata": {},
   "outputs": [
    {
     "name": "stdout",
     "output_type": "stream",
     "text": [
      "enter your number=12\n",
      "           *\n",
      "          ***\n",
      "         *****\n",
      "        *******\n",
      "       *********\n",
      "      ***********\n",
      "     *************\n",
      "    ***************\n",
      "   *****************\n",
      "  *******************\n",
      " *********************\n",
      "***********************\n"
     ]
    }
   ],
   "source": [
    "#patten pracitise\n",
    "n=int(input(\"enter your number=\"))\n",
    "for row in range(1,n+1):\n",
    "    print(' '*(n-row),end='')\n",
    "    print('*'*(2*row-1))"
   ]
  },
  {
   "cell_type": "code",
   "execution_count": 2,
   "id": "cc345be8",
   "metadata": {},
   "outputs": [
    {
     "name": "stdout",
     "output_type": "stream",
     "text": [
      "1234\n",
      "123\n",
      "12\n",
      "1\n"
     ]
    }
   ],
   "source": [
    "#pattern\n",
    "for col in range(4,0,-1):\n",
    "   # print(' '*(4-col))\n",
    "    for j in range(1,col+1):\n",
    "        print(j,end='')\n",
    "    print()\n",
    "    \n",
    "    \n"
   ]
  },
  {
   "cell_type": "code",
   "execution_count": 30,
   "id": "7e9ae22d",
   "metadata": {},
   "outputs": [
    {
     "name": "stdout",
     "output_type": "stream",
     "text": [
      "enter your number=15\n",
      "\n",
      "************** \n",
      "*************  \n",
      "************   \n",
      "***********    \n",
      "**********     \n",
      "*********      \n",
      "********       \n",
      "*******        \n",
      "******         \n",
      "*****          \n",
      "****           \n",
      "***            \n",
      "**             \n",
      "*              \n"
     ]
    }
   ],
   "source": [
    "n=int(input(\"enter your number=\"))\n",
    "for col in range(n,0,-1):\n",
    "    print(' '*(n-col))\n",
    "    for j in range(1,col):\n",
    "        print('*',end='')\n",
    "    \n",
    "    "
   ]
  },
  {
   "cell_type": "code",
   "execution_count": 29,
   "id": "42dcd49e",
   "metadata": {},
   "outputs": [
    {
     "name": "stdout",
     "output_type": "stream",
     "text": [
      "\n",
      "***** \n",
      "****  \n",
      "***   \n",
      "**    \n",
      "* "
     ]
    }
   ],
   "source": [
    "for col in range(5,0,-1):\n",
    "    print(' '*(4-col))\n",
    "    print(\"*\"*(col),end=' ')\n",
    "    \n",
    "    "
   ]
  },
  {
   "cell_type": "code",
   "execution_count": 6,
   "id": "02d42bf4",
   "metadata": {},
   "outputs": [
    {
     "name": "stdout",
     "output_type": "stream",
     "text": [
      "1234\n",
      " 123\n",
      "  12\n",
      "   1\n",
      "    \n"
     ]
    }
   ],
   "source": [
    "for col  in range(5,0,-1):\n",
    "    print(\" \"*(5-col),end='')\n",
    "    for j in range(1,col):\n",
    "          print(j,end='')\n",
    "    print()"
   ]
  },
  {
   "cell_type": "code",
   "execution_count": 16,
   "id": "d321d7a5",
   "metadata": {},
   "outputs": [
    {
     "name": "stdout",
     "output_type": "stream",
     "text": [
      "enter your number=9\n",
      "123456789\n",
      " 12345678\n",
      "  1234567\n",
      "   123456\n",
      "    12345\n",
      "     1234\n",
      "      123\n",
      "       12\n",
      "        1\n"
     ]
    }
   ],
   "source": [
    "n=int(input(\"enter your number=\"))\n",
    "for col  in range(n,0,-1):\n",
    "    print(\" \"*(n-col),end='')\n",
    "    for j in range(1,col+1):\n",
    "          print(j,end='')\n",
    "    print()"
   ]
  },
  {
   "cell_type": "code",
   "execution_count": 9,
   "id": "22f0a697",
   "metadata": {},
   "outputs": [
    {
     "name": "stdout",
     "output_type": "stream",
     "text": [
      "   1\n",
      "  12\n",
      " 123\n",
      "1234\n"
     ]
    }
   ],
   "source": [
    "#n=int(input(\"enter your number=\"))\n",
    "for col in range(1,5):\n",
    "    print(\" \"*(4-col),end=\"\")\n",
    "    for j in range(1,col+1):\n",
    "        print(j,end='')\n",
    "    print()"
   ]
  },
  {
   "cell_type": "code",
   "execution_count": 17,
   "id": "8b48ad1b",
   "metadata": {},
   "outputs": [
    {
     "name": "stdout",
     "output_type": "stream",
     "text": [
      "enter your number=10\n",
      "         1\n",
      "        12\n",
      "       123\n",
      "      1234\n",
      "     12345\n",
      "    123456\n",
      "   1234567\n",
      "  12345678\n",
      " 123456789\n",
      "12345678910\n"
     ]
    }
   ],
   "source": [
    "n=int(input(\"enter your number=\"))\n",
    "for col in range(1,n+1):\n",
    "    print(\" \"*(n-col),end=\"\")\n",
    "    for j in range(1,col+1):\n",
    "        print(j,end='')\n",
    "    print()"
   ]
  },
  {
   "cell_type": "code",
   "execution_count": 30,
   "id": "f1556afe",
   "metadata": {},
   "outputs": [
    {
     "name": "stdout",
     "output_type": "stream",
     "text": [
      "enter your number=15\n",
      "              *\n",
      "             ***\n",
      "            *****\n",
      "           *******\n",
      "          *********\n",
      "         ***********\n",
      "        *************\n",
      "       ***************\n",
      "      *****************\n",
      "     *******************\n",
      "    *********************\n",
      "   ***********************\n",
      "  *************************\n",
      " ***************************\n",
      "*****************************\n",
      " ***************************\n",
      "  *************************\n",
      "   ***********************\n",
      "    *********************\n",
      "     *******************\n",
      "      *****************\n",
      "       ***************\n",
      "        *************\n",
      "         ***********\n",
      "          *********\n",
      "           *******\n",
      "            *****\n",
      "             ***\n",
      "              *\n"
     ]
    }
   ],
   "source": [
    "n=int(input(\"enter your number=\"))\n",
    "for row in range(1,n+1):\n",
    "    print(\" \"*(n-row),end='')\n",
    "    print(\"*\"*(2*row-1),end='')\n",
    "    print()\n",
    "for j in range(n-1,0,-1):\n",
    "    print(\" \"*(n-j),end='')\n",
    "    print(\"*\"*(2*j-1),end='')\n",
    "    print()"
   ]
  },
  {
   "cell_type": "code",
   "execution_count": 45,
   "id": "9556be39",
   "metadata": {},
   "outputs": [
    {
     "data": {
      "text/plain": [
       "list"
      ]
     },
     "execution_count": 45,
     "metadata": {},
     "output_type": "execute_result"
    }
   ],
   "source": [
    "#practise string\n",
    "s=\"prashant kumar dangi is a well decipline boy\"\n",
    "a=s.split()\n",
    "type(a)"
   ]
  },
  {
   "cell_type": "code",
   "execution_count": 46,
   "id": "03b7b4cd",
   "metadata": {},
   "outputs": [
    {
     "name": "stdout",
     "output_type": "stream",
     "text": [
      "['prashant', 'kumar', 'dangi', 'is', 'a', 'well', 'decipline', 'boy']\n"
     ]
    }
   ],
   "source": [
    "print(a)"
   ]
  },
  {
   "cell_type": "code",
   "execution_count": 47,
   "id": "d508736f",
   "metadata": {},
   "outputs": [
    {
     "name": "stdout",
     "output_type": "stream",
     "text": [
      "['boy', 'decipline', 'well', 'a', 'is', 'dangi', 'kumar', 'prashant']\n"
     ]
    }
   ],
   "source": [
    "b=a[ : : -1]\n",
    "print(b)"
   ]
  },
  {
   "cell_type": "code",
   "execution_count": 48,
   "id": "62aa7a3c",
   "metadata": {},
   "outputs": [
    {
     "name": "stdout",
     "output_type": "stream",
     "text": [
      "boy decipline well a is dangi kumar prashant\n"
     ]
    }
   ],
   "source": [
    "print(' '.join(b))"
   ]
  },
  {
   "cell_type": "code",
   "execution_count": 49,
   "id": "e82d3b83",
   "metadata": {},
   "outputs": [
    {
     "data": {
      "text/plain": [
       "8"
      ]
     },
     "execution_count": 49,
     "metadata": {},
     "output_type": "execute_result"
    }
   ],
   "source": [
    "len(b)"
   ]
  },
  {
   "cell_type": "code",
   "execution_count": 50,
   "id": "6200b127",
   "metadata": {},
   "outputs": [
    {
     "data": {
      "text/plain": [
       "14"
      ]
     },
     "execution_count": 50,
     "metadata": {},
     "output_type": "execute_result"
    }
   ],
   "source": [
    "len(\"prashant dangi\")"
   ]
  },
  {
   "cell_type": "code",
   "execution_count": 51,
   "id": "0609d348",
   "metadata": {},
   "outputs": [
    {
     "name": "stdout",
     "output_type": "stream",
     "text": [
      "pankaj\n"
     ]
    }
   ],
   "source": [
    "c='pankaj'\n",
    "print(c)"
   ]
  },
  {
   "cell_type": "code",
   "execution_count": 52,
   "id": "438e1f9b",
   "metadata": {},
   "outputs": [
    {
     "name": "stdout",
     "output_type": "stream",
     "text": [
      "0 p\n",
      "1 a\n",
      "2 n\n",
      "3 k\n",
      "4 a\n",
      "5 j\n"
     ]
    }
   ],
   "source": [
    "for i in range(len(c)):\n",
    "    print(i,c[i])"
   ]
  },
  {
   "cell_type": "code",
   "execution_count": 53,
   "id": "ae95995e",
   "metadata": {},
   "outputs": [
    {
     "name": "stdout",
     "output_type": "stream",
     "text": [
      "pankaj\n"
     ]
    }
   ],
   "source": [
    "print(c[-6:])"
   ]
  },
  {
   "cell_type": "code",
   "execution_count": 54,
   "id": "b6f629e5",
   "metadata": {},
   "outputs": [
    {
     "name": "stdout",
     "output_type": "stream",
     "text": [
      "pankaj\n"
     ]
    }
   ],
   "source": [
    "print(c[ : ])"
   ]
  },
  {
   "cell_type": "code",
   "execution_count": 55,
   "id": "6fb7af66",
   "metadata": {},
   "outputs": [
    {
     "name": "stdout",
     "output_type": "stream",
     "text": [
      "jaknap\n"
     ]
    }
   ],
   "source": [
    "print(c[ : : -1])"
   ]
  },
  {
   "cell_type": "code",
   "execution_count": 56,
   "id": "76fd1218",
   "metadata": {},
   "outputs": [
    {
     "name": "stdout",
     "output_type": "stream",
     "text": [
      "PANKAJ\n"
     ]
    }
   ],
   "source": [
    "print(c.upper())"
   ]
  },
  {
   "cell_type": "code",
   "execution_count": 57,
   "id": "0dacb1b9",
   "metadata": {},
   "outputs": [
    {
     "name": "stdout",
     "output_type": "stream",
     "text": [
      "PRASHANT KUMAR DANGI IS A WELL DECIPLINE BOY\n"
     ]
    }
   ],
   "source": [
    "print(s.upper())"
   ]
  },
  {
   "cell_type": "code",
   "execution_count": 61,
   "id": "eb2923e0",
   "metadata": {},
   "outputs": [
    {
     "name": "stdout",
     "output_type": "stream",
     "text": [
      "hs\n"
     ]
    }
   ],
   "source": [
    "print(s[ 4:2:-1])"
   ]
  },
  {
   "cell_type": "code",
   "execution_count": 65,
   "id": "97c034df",
   "metadata": {},
   "outputs": [
    {
     "data": {
      "text/plain": [
       "False"
      ]
     },
     "execution_count": 65,
     "metadata": {},
     "output_type": "execute_result"
    }
   ],
   "source": [
    "\"pankaj\"<\"984\""
   ]
  },
  {
   "cell_type": "code",
   "execution_count": 71,
   "id": "bb3d8a79",
   "metadata": {},
   "outputs": [],
   "source": [
    "s=\"prashant \""
   ]
  },
  {
   "cell_type": "code",
   "execution_count": 73,
   "id": "3d5ad475",
   "metadata": {},
   "outputs": [
    {
     "data": {
      "text/plain": [
       "'prashant'"
      ]
     },
     "execution_count": 73,
     "metadata": {},
     "output_type": "execute_result"
    }
   ],
   "source": [
    "#strip\n",
    "t=(s.rstrip())\n",
    "t"
   ]
  },
  {
   "cell_type": "code",
   "execution_count": 5,
   "id": "7f1e1145",
   "metadata": {},
   "outputs": [
    {
     "data": {
      "text/plain": [
       "'i'"
      ]
     },
     "execution_count": 5,
     "metadata": {},
     "output_type": "execute_result"
    }
   ],
   "source": [
    "p=\"dangi\"\n",
    "p[-1:-2:-1]"
   ]
  },
  {
   "cell_type": "code",
   "execution_count": 4,
   "id": "ff736609",
   "metadata": {},
   "outputs": [
    {
     "name": "stdout",
     "output_type": "stream",
     "text": [
      "enter original string=prashant is a good boy\n",
      "enter substring=a\n",
      "yes\n"
     ]
    }
   ],
   "source": [
    "n=input(\"enter original string=\")\n",
    "o=input(\"enter substring=\")\n",
    "if(o in n):\n",
    "    print('yes')\n",
    "else:\n",
    "    print('No')"
   ]
  },
  {
   "cell_type": "code",
   "execution_count": 9,
   "id": "1be6f582",
   "metadata": {},
   "outputs": [
    {
     "data": {
      "text/plain": [
       "True"
      ]
     },
     "execution_count": 9,
     "metadata": {},
     "output_type": "execute_result"
    }
   ],
   "source": [
    "#palindrome string\n",
    "p=\"malayalam\"\n",
    "q=p[ : : -1]\n",
    "p==q"
   ]
  },
  {
   "cell_type": "code",
   "execution_count": 2,
   "id": "4ab72c4c",
   "metadata": {},
   "outputs": [
    {
     "name": "stdout",
     "output_type": "stream",
     "text": [
      "['pankaj', 'sharma', 'is', 'worst', 'faculty']\n"
     ]
    }
   ],
   "source": [
    "#splilt\n",
    "a=\"pankaj sharma  is worst faculty\"\n",
    "b=a.split()\n",
    "\n",
    "print(b)"
   ]
  },
  {
   "cell_type": "code",
   "execution_count": 3,
   "id": "84928756",
   "metadata": {},
   "outputs": [
    {
     "data": {
      "text/plain": [
       "list"
      ]
     },
     "execution_count": 3,
     "metadata": {},
     "output_type": "execute_result"
    }
   ],
   "source": [
    "type(b)"
   ]
  },
  {
   "cell_type": "code",
   "execution_count": 5,
   "id": "db7fb9a9",
   "metadata": {},
   "outputs": [
    {
     "name": "stdout",
     "output_type": "stream",
     "text": [
      "prashant kumar dangi\n"
     ]
    }
   ],
   "source": [
    "#join\n",
    "l=['prashant','kumar','dangi']\n",
    "print(' '.join(l))"
   ]
  },
  {
   "cell_type": "code",
   "execution_count": 7,
   "id": "f842e4b4",
   "metadata": {},
   "outputs": [
    {
     "name": "stdout",
     "output_type": "stream",
     "text": [
      "enter your words=my name is prashant kumar dangi\n",
      "my\n",
      "name\n",
      "is\n",
      "prashant\n"
     ]
    }
   ],
   "source": [
    "#print even length words in the string\n",
    "s=input(\"enter your words=\")\n",
    "for  word in s.split():\n",
    "    if len(word)%2==0:\n",
    "        print(word)\n"
   ]
  },
  {
   "cell_type": "code",
   "execution_count": 14,
   "id": "3a5431fc",
   "metadata": {},
   "outputs": [
    {
     "name": "stdout",
     "output_type": "stream",
     "text": [
      "enter string=pankaj sharma sir\n"
     ]
    }
   ],
   "source": [
    "#doubt\n",
    "#S=input(\"enter string=\")\n",
    "a=S.split()\n",
    "updated=[]\n",
    "for word in a[ :len(a)-1]:\n",
    "    updated.append(a[len(a)-1])"
   ]
  },
  {
   "cell_type": "code",
   "execution_count": 18,
   "id": "992c8f87",
   "metadata": {},
   "outputs": [
    {
     "name": "stdout",
     "output_type": "stream",
     "text": [
      "11\n"
     ]
    }
   ],
   "source": [
    "#Find it returs 1st occurence or -1 in case of not preseent \n",
    "s=\"pankaj sir is pankaj sir\"\n",
    "print(s.find(\"is\"))"
   ]
  },
  {
   "cell_type": "code",
   "execution_count": 19,
   "id": "71b2fad0",
   "metadata": {},
   "outputs": [
    {
     "name": "stdout",
     "output_type": "stream",
     "text": [
      "-1\n"
     ]
    }
   ],
   "source": [
    "print(s.find(\"prashant\"))"
   ]
  },
  {
   "cell_type": "code",
   "execution_count": 27,
   "id": "ecb95d7f",
   "metadata": {},
   "outputs": [
    {
     "name": "stdout",
     "output_type": "stream",
     "text": [
      "11\n"
     ]
    }
   ],
   "source": [
    "#another method to finding\n",
    "#s.find(start index,end index)\n",
    "print(s.find(\"is\",5,14))"
   ]
  },
  {
   "cell_type": "code",
   "execution_count": 35,
   "id": "4afaa3d5",
   "metadata": {},
   "outputs": [
    {
     "name": "stdout",
     "output_type": "stream",
     "text": [
      "7\n"
     ]
    }
   ],
   "source": [
    "print(s.index(\"sir\",5,18))"
   ]
  },
  {
   "cell_type": "code",
   "execution_count": 36,
   "id": "fdcd7466",
   "metadata": {},
   "outputs": [
    {
     "data": {
      "text/plain": [
       "2"
      ]
     },
     "execution_count": 36,
     "metadata": {},
     "output_type": "execute_result"
    }
   ],
   "source": [
    "#count()\n",
    "s.count(\"sir\")"
   ]
  },
  {
   "cell_type": "code",
   "execution_count": 37,
   "id": "a7b2b0a2",
   "metadata": {},
   "outputs": [
    {
     "data": {
      "text/plain": [
       "2"
      ]
     },
     "execution_count": 37,
     "metadata": {},
     "output_type": "execute_result"
    }
   ],
   "source": [
    "l=['prashnt','kumar','dangi','singh','kumar']\n",
    "l.count(\"kumar\")"
   ]
  },
  {
   "cell_type": "code",
   "execution_count": 38,
   "id": "d73fe1fe",
   "metadata": {},
   "outputs": [
    {
     "ename": "AttributeError",
     "evalue": "'list' object has no attribute 'find'",
     "output_type": "error",
     "traceback": [
      "\u001b[1;31m---------------------------------------------------------------------------\u001b[0m",
      "\u001b[1;31mAttributeError\u001b[0m                            Traceback (most recent call last)",
      "Cell \u001b[1;32mIn[38], line 1\u001b[0m\n\u001b[1;32m----> 1\u001b[0m \u001b[38;5;28mprint\u001b[39m(l\u001b[38;5;241m.\u001b[39mfind(\u001b[38;5;124m\"\u001b[39m\u001b[38;5;124mkumar\u001b[39m\u001b[38;5;124m\"\u001b[39m))\n",
      "\u001b[1;31mAttributeError\u001b[0m: 'list' object has no attribute 'find'"
     ]
    }
   ],
   "source": [
    "print(l.find(\"kumar\"))"
   ]
  },
  {
   "cell_type": "code",
   "execution_count": 43,
   "id": "f308f88b",
   "metadata": {},
   "outputs": [
    {
     "data": {
      "text/plain": [
       "'pankaj sir is very good faculty'"
      ]
     },
     "execution_count": 43,
     "metadata": {},
     "output_type": "execute_result"
    }
   ],
   "source": [
    "s=\"pankaj sir is good faculty\"\n",
    "t=s.replace(\"good\",\"very good\")\n",
    "t"
   ]
  },
  {
   "cell_type": "code",
   "execution_count": 45,
   "id": "d2bb0a5f",
   "metadata": {},
   "outputs": [
    {
     "name": "stdout",
     "output_type": "stream",
     "text": [
      "pankaj sir is good faculty\n"
     ]
    }
   ],
   "source": [
    "print(s)"
   ]
  },
  {
   "cell_type": "code",
   "execution_count": 49,
   "id": "010b3a8c",
   "metadata": {},
   "outputs": [
    {
     "name": "stdout",
     "output_type": "stream",
     "text": [
      "faculty good is sir pankaj\n"
     ]
    }
   ],
   "source": [
    "y=s.split()\n",
    "z=' '.join(y[: : -1])\n",
    "print(z)"
   ]
  },
  {
   "cell_type": "code",
   "execution_count": 53,
   "id": "7f6fe8de",
   "metadata": {},
   "outputs": [
    {
     "name": "stdout",
     "output_type": "stream",
     "text": [
      "jaknap ris si doog ytlucaf "
     ]
    }
   ],
   "source": [
    "for word in s.split():\n",
    "    print(word[ : :-1],end=' ')"
   ]
  },
  {
   "cell_type": "code",
   "execution_count": 54,
   "id": "5d88642a",
   "metadata": {},
   "outputs": [
    {
     "name": "stdout",
     "output_type": "stream",
     "text": [
      "PANKAJ\n"
     ]
    }
   ],
   "source": [
    "#swap case\n",
    "p=\"pankaj\"\n",
    "print(p.swapcase())"
   ]
  },
  {
   "cell_type": "code",
   "execution_count": 55,
   "id": "438ea19e",
   "metadata": {},
   "outputs": [
    {
     "name": "stdout",
     "output_type": "stream",
     "text": [
      "pankaj\n"
     ]
    }
   ],
   "source": [
    "print(p.lower())"
   ]
  },
  {
   "cell_type": "code",
   "execution_count": 56,
   "id": "6d42368e",
   "metadata": {},
   "outputs": [
    {
     "name": "stdout",
     "output_type": "stream",
     "text": [
      "PANKAJ\n"
     ]
    }
   ],
   "source": [
    "print(p.upper())"
   ]
  },
  {
   "cell_type": "code",
   "execution_count": 60,
   "id": "27bd4437",
   "metadata": {},
   "outputs": [
    {
     "name": "stdout",
     "output_type": "stream",
     "text": [
      "True\n"
     ]
    }
   ],
   "source": [
    "s=\"jamesbond007\"\n",
    "print(s.isalnum())"
   ]
  },
  {
   "cell_type": "code",
   "execution_count": 61,
   "id": "47995f18",
   "metadata": {},
   "outputs": [
    {
     "name": "stdout",
     "output_type": "stream",
     "text": [
      "False\n"
     ]
    }
   ],
   "source": [
    "print(s.isalpha())"
   ]
  },
  {
   "cell_type": "code",
   "execution_count": 63,
   "id": "4d699d97",
   "metadata": {},
   "outputs": [
    {
     "name": "stdout",
     "output_type": "stream",
     "text": [
      "True\n"
     ]
    }
   ],
   "source": [
    "print(s.islower())"
   ]
  },
  {
   "cell_type": "code",
   "execution_count": 64,
   "id": "785936b9",
   "metadata": {},
   "outputs": [
    {
     "name": "stdout",
     "output_type": "stream",
     "text": [
      "False\n"
     ]
    }
   ],
   "source": [
    "print(s.isupper())"
   ]
  },
  {
   "cell_type": "code",
   "execution_count": 72,
   "id": "87cfe244",
   "metadata": {},
   "outputs": [
    {
     "name": "stdout",
     "output_type": "stream",
     "text": [
      "False\n"
     ]
    }
   ],
   "source": [
    "p=\"pankaj kumar dangi\"\n",
    "print(p.isspace())"
   ]
  },
  {
   "cell_type": "code",
   "execution_count": 76,
   "id": "37659348",
   "metadata": {},
   "outputs": [],
   "source": [
    "t=\"PRASHAnt kumar dangi\""
   ]
  },
  {
   "cell_type": "code",
   "execution_count": 77,
   "id": "8a831714",
   "metadata": {},
   "outputs": [
    {
     "name": "stdout",
     "output_type": "stream",
     "text": [
      "prashaNT KUMAR DANGI\n"
     ]
    }
   ],
   "source": [
    "print(t.swapcase( ))"
   ]
  },
  {
   "cell_type": "code",
   "execution_count": 85,
   "id": "62bc9d8d",
   "metadata": {},
   "outputs": [
    {
     "name": "stdout",
     "output_type": "stream",
     "text": [
      "True\n"
     ]
    }
   ],
   "source": [
    "#startswitch() taking an argument\n",
    "h=\"prashant\" \n",
    "print(h.startswith('p'))\n"
   ]
  },
  {
   "cell_type": "code",
   "execution_count": 1,
   "id": "2bdaaa08",
   "metadata": {},
   "outputs": [
    {
     "data": {
      "text/plain": [
       "[0, 1, 2, 3, 4, 5]"
      ]
     },
     "execution_count": 1,
     "metadata": {},
     "output_type": "execute_result"
    }
   ],
   "source": [
    "#list ext \n",
    "l=list(range(6))\n",
    "l"
   ]
  },
  {
   "cell_type": "code",
   "execution_count": 4,
   "id": "61d00d4e",
   "metadata": {},
   "outputs": [
    {
     "data": {
      "text/plain": [
       "[8, 10, 12, 14, 16]"
      ]
     },
     "execution_count": 4,
     "metadata": {},
     "output_type": "execute_result"
    }
   ],
   "source": [
    "l=[]\n",
    "for i in range(8,18,2):\n",
    "    l.append(i)\n",
    "l"
   ]
  },
  {
   "cell_type": "code",
   "execution_count": null,
   "id": "bb8e3aa4",
   "metadata": {},
   "outputs": [],
   "source": [
    "l=eval(input(\"enter your list=\"))\n",
    "l"
   ]
  },
  {
   "cell_type": "code",
   "execution_count": 2,
   "id": "35977aff",
   "metadata": {},
   "outputs": [
    {
     "data": {
      "text/plain": [
       "[0, 1, 2, 3, 4]"
      ]
     },
     "execution_count": 2,
     "metadata": {},
     "output_type": "execute_result"
    }
   ],
   "source": [
    "l=[i for i in range(5)]\n",
    "l"
   ]
  },
  {
   "cell_type": "code",
   "execution_count": 12,
   "id": "448fe97f",
   "metadata": {},
   "outputs": [
    {
     "data": {
      "text/plain": [
       "[2, 4, 5, 55, 23, 43, 23, 53, 52]"
      ]
     },
     "execution_count": 12,
     "metadata": {},
     "output_type": "execute_result"
    }
   ],
   "source": [
    "a=[2,4,5,23,43,23,53,52]\n",
    "a.insert(3,55)\n",
    "a"
   ]
  },
  {
   "cell_type": "code",
   "execution_count": 45,
   "id": "29372369",
   "metadata": {},
   "outputs": [
    {
     "name": "stdout",
     "output_type": "stream",
     "text": [
      "[1, 42, 1, 4, 5, 12, 53, 64, 1, 5, 6, 7, 8, 3, 9]\n"
     ]
    }
   ],
   "source": [
    "p=[1,42,1,4,5,12,53,64,]\n",
    "q=[1,5,6,7,8,3,9]\n",
    "p.extend(q)\n",
    "print(p)"
   ]
  },
  {
   "cell_type": "code",
   "execution_count": 46,
   "id": "6bd636a0",
   "metadata": {},
   "outputs": [
    {
     "data": {
      "text/plain": [
       "[1, 5, 6, 7, 8, 3, 9]"
      ]
     },
     "execution_count": 46,
     "metadata": {},
     "output_type": "execute_result"
    }
   ],
   "source": [
    "q"
   ]
  },
  {
   "cell_type": "code",
   "execution_count": 47,
   "id": "a6b10592",
   "metadata": {},
   "outputs": [
    {
     "name": "stdout",
     "output_type": "stream",
     "text": [
      "[11, 1, 42, 1, 4, 5, 12, 53, 64, 1, 5, 6, 7, 8, 3, 9]\n"
     ]
    }
   ],
   "source": [
    "p.insert(0,11)\n",
    "print(p)"
   ]
  },
  {
   "cell_type": "code",
   "execution_count": 48,
   "id": "2074be21",
   "metadata": {},
   "outputs": [
    {
     "ename": "ValueError",
     "evalue": "list.remove(x): x not in list",
     "output_type": "error",
     "traceback": [
      "\u001b[1;31m---------------------------------------------------------------------------\u001b[0m",
      "\u001b[1;31mValueError\u001b[0m                                Traceback (most recent call last)",
      "Cell \u001b[1;32mIn[48], line 1\u001b[0m\n\u001b[1;32m----> 1\u001b[0m p\u001b[38;5;241m.\u001b[39mremove(\u001b[38;5;241m32\u001b[39m)\n",
      "\u001b[1;31mValueError\u001b[0m: list.remove(x): x not in list"
     ]
    }
   ],
   "source": [
    "p.remove(32)\n"
   ]
  },
  {
   "cell_type": "code",
   "execution_count": 51,
   "id": "0951512c",
   "metadata": {},
   "outputs": [
    {
     "data": {
      "text/plain": [
       "15"
      ]
     },
     "execution_count": 51,
     "metadata": {},
     "output_type": "execute_result"
    }
   ],
   "source": [
    "len(p)"
   ]
  },
  {
   "cell_type": "code",
   "execution_count": 52,
   "id": "d16d98fc",
   "metadata": {},
   "outputs": [
    {
     "data": {
      "text/plain": [
       "[11, 1, 42, 1, 4, 5, 12, 53, 64, 1, 5, 6, 7, 8]"
      ]
     },
     "execution_count": 52,
     "metadata": {},
     "output_type": "execute_result"
    }
   ],
   "source": [
    "p.pop(14)\n",
    "p"
   ]
  },
  {
   "cell_type": "code",
   "execution_count": 63,
   "id": "bba46e0b",
   "metadata": {},
   "outputs": [
    {
     "data": {
      "text/plain": [
       "[52, 53, 23, 43, 23, 5, 4, 2]"
      ]
     },
     "execution_count": 63,
     "metadata": {},
     "output_type": "execute_result"
    }
   ],
   "source": [
    "a=[2,4,5,23,43,23,53,52]\n",
    "a.reverse()\n",
    "a"
   ]
  },
  {
   "cell_type": "code",
   "execution_count": 64,
   "id": "062938dd",
   "metadata": {},
   "outputs": [
    {
     "data": {
      "text/plain": [
       "[2, 4, 5, 23, 23, 43, 52, 53]"
      ]
     },
     "execution_count": 64,
     "metadata": {},
     "output_type": "execute_result"
    }
   ],
   "source": [
    "a.sort()#by default it sort in ascending order\n",
    "a"
   ]
  },
  {
   "cell_type": "code",
   "execution_count": 65,
   "id": "5a64a6d9",
   "metadata": {},
   "outputs": [
    {
     "data": {
      "text/plain": [
       "[53, 52, 43, 23, 23, 5, 4, 2]"
      ]
     },
     "execution_count": 65,
     "metadata": {},
     "output_type": "execute_result"
    }
   ],
   "source": [
    "a.sort(reverse=True)#decending order\n",
    "a"
   ]
  },
  {
   "cell_type": "code",
   "execution_count": 66,
   "id": "ac5d74f9",
   "metadata": {},
   "outputs": [
    {
     "data": {
      "text/plain": [
       "['dangi', 'kumar', 'prashant', 'singh']"
      ]
     },
     "execution_count": 66,
     "metadata": {},
     "output_type": "execute_result"
    }
   ],
   "source": [
    "s=[\"prashant\",\"kumar\",\"dangi\",\"singh\"]\n",
    "s.sort()\n",
    "s"
   ]
  },
  {
   "cell_type": "code",
   "execution_count": 67,
   "id": "a63cf641",
   "metadata": {},
   "outputs": [
    {
     "data": {
      "text/plain": [
       "['singh', 'prashant', 'kumar', 'dangi']"
      ]
     },
     "execution_count": 67,
     "metadata": {},
     "output_type": "execute_result"
    }
   ],
   "source": [
    "s.sort(reverse=True)\n",
    "s"
   ]
  },
  {
   "cell_type": "code",
   "execution_count": 12,
   "id": "674a885c",
   "metadata": {},
   "outputs": [
    {
     "name": "stdout",
     "output_type": "stream",
     "text": [
      "6\n",
      "9\n",
      "7\n",
      "5\n",
      "1\n",
      "2\n",
      "4\n",
      "[9, 7, 5, 1, 2, 4]\n"
     ]
    }
   ],
   "source": [
    "#form a list taking element from user\n",
    "s=int(input())\n",
    "l=[]\n",
    "for i in range(s):\n",
    "    inp=int(input())\n",
    "    l.append(inp)\n",
    "print(l)"
   ]
  },
  {
   "cell_type": "code",
   "execution_count": 18,
   "id": "ea2637d3",
   "metadata": {},
   "outputs": [
    {
     "name": "stdout",
     "output_type": "stream",
     "text": [
      "123456\n",
      "[123456]\n"
     ]
    }
   ],
   "source": [
    "s=input().split()\n",
    "l=[]\n",
    "for element in s:\n",
    "    l.append(int(element))\n",
    "print(l)"
   ]
  },
  {
   "cell_type": "code",
   "execution_count": 6,
   "id": "cd67132d",
   "metadata": {},
   "outputs": [
    {
     "data": {
      "text/plain": [
       "[]"
      ]
     },
     "execution_count": 6,
     "metadata": {},
     "output_type": "execute_result"
    }
   ],
   "source": [
    "a=[2,4,5,23,43,23,53,52]\n",
    "a.clear()# clear does not take an argument\n",
    "a"
   ]
  },
  {
   "cell_type": "code",
   "execution_count": 7,
   "id": "a0d511ec",
   "metadata": {},
   "outputs": [
    {
     "data": {
      "text/plain": [
       "4"
      ]
     },
     "execution_count": 7,
     "metadata": {},
     "output_type": "execute_result"
    }
   ],
   "source": [
    "a=[[2,4,5],[23,43,23],53,52]\n",
    "len(a)"
   ]
  },
  {
   "cell_type": "code",
   "execution_count": 8,
   "id": "8a6d7d01",
   "metadata": {},
   "outputs": [
    {
     "name": "stdout",
     "output_type": "stream",
     "text": [
      "4\n"
     ]
    }
   ],
   "source": [
    "print(a[0][1])"
   ]
  },
  {
   "cell_type": "code",
   "execution_count": 9,
   "id": "74a46144",
   "metadata": {},
   "outputs": [
    {
     "data": {
      "text/plain": [
       "[[2, 4, 5], 13, [23, 43, 23], 53, 52]"
      ]
     },
     "execution_count": 9,
     "metadata": {},
     "output_type": "execute_result"
    }
   ],
   "source": [
    "a.insert(1,13)\n",
    "a"
   ]
  },
  {
   "cell_type": "code",
   "execution_count": 23,
   "id": "e44578d1",
   "metadata": {},
   "outputs": [
    {
     "name": "stdout",
     "output_type": "stream",
     "text": [
      "34\n"
     ]
    },
    {
     "ename": "IndexError",
     "evalue": "list index out of range",
     "output_type": "error",
     "traceback": [
      "\u001b[1;31m---------------------------------------------------------------------------\u001b[0m",
      "\u001b[1;31mIndexError\u001b[0m                                Traceback (most recent call last)",
      "Cell \u001b[1;32mIn[23], line 2\u001b[0m\n\u001b[0;32m      1\u001b[0m dimensions\u001b[38;5;241m=\u001b[39m\u001b[38;5;28minput\u001b[39m()\u001b[38;5;241m.\u001b[39msplit()\n\u001b[1;32m----> 2\u001b[0m m\u001b[38;5;241m=\u001b[39m\u001b[38;5;28mint\u001b[39m(dimensions[\u001b[38;5;241m1\u001b[39m])\n\u001b[0;32m      3\u001b[0m n\u001b[38;5;241m=\u001b[39m\u001b[38;5;28mint\u001b[39m(dimensions[\u001b[38;5;241m0\u001b[39m])\n\u001b[0;32m      4\u001b[0m l\u001b[38;5;241m=\u001b[39m[]\n",
      "\u001b[1;31mIndexError\u001b[0m: list index out of range"
     ]
    }
   ],
   "source": [
    "dimensions=input().split()\n",
    "m=int(dimensions[0])\n",
    "n=int(dimensions[1])\n",
    "l=[]\n",
    "for i in range(m):\n",
    "    new_row=[int(i) for i in input().split()]\n",
    "    l.append(new_row)\n",
    "print(l)"
   ]
  },
  {
   "cell_type": "code",
   "execution_count": 25,
   "id": "0e530f3c",
   "metadata": {},
   "outputs": [
    {
     "data": {
      "text/plain": [
       "[[2, 4, 5], [23, 43, 23], 53, 52, [2, 4, 5], [23, 43, 23], 53, 52]"
      ]
     },
     "execution_count": 25,
     "metadata": {},
     "output_type": "execute_result"
    }
   ],
   "source": [
    "a=[[2,4,5],[23,43,23],53,52]\n",
    "a*2"
   ]
  },
  {
   "cell_type": "code",
   "execution_count": 26,
   "id": "d40fcbc4",
   "metadata": {},
   "outputs": [
    {
     "data": {
      "text/plain": [
       "[[2, 4, 5], [23, 43, 23]]"
      ]
     },
     "execution_count": 26,
     "metadata": {},
     "output_type": "execute_result"
    }
   ],
   "source": [
    "a[ : 2]"
   ]
  },
  {
   "cell_type": "code",
   "execution_count": 27,
   "id": "56664dc9",
   "metadata": {},
   "outputs": [
    {
     "data": {
      "text/plain": [
       "[52, 53, [23, 43, 23], [2, 4, 5]]"
      ]
     },
     "execution_count": 27,
     "metadata": {},
     "output_type": "execute_result"
    }
   ],
   "source": [
    "a[ : : -1]"
   ]
  },
  {
   "cell_type": "code",
   "execution_count": 65,
   "id": "826d18f3",
   "metadata": {},
   "outputs": [
    {
     "name": "stdout",
     "output_type": "stream",
     "text": [
      "False\n"
     ]
    }
   ],
   "source": [
    "a=(1,2,\"prashant\")\n",
    "b=[1,2,4]\n",
    "print(a==b)"
   ]
  },
  {
   "cell_type": "code",
   "execution_count": 67,
   "id": "20faf9c3",
   "metadata": {},
   "outputs": [
    {
     "data": {
      "text/plain": [
       "3"
      ]
     },
     "execution_count": 67,
     "metadata": {},
     "output_type": "execute_result"
    }
   ],
   "source": [
    "len(a)"
   ]
  },
  {
   "cell_type": "code",
   "execution_count": 66,
   "id": "32693a1f",
   "metadata": {},
   "outputs": [
    {
     "ename": "TypeError",
     "evalue": "'tuple' object does not support item assignment",
     "output_type": "error",
     "traceback": [
      "\u001b[1;31m---------------------------------------------------------------------------\u001b[0m",
      "\u001b[1;31mTypeError\u001b[0m                                 Traceback (most recent call last)",
      "Cell \u001b[1;32mIn[66], line 1\u001b[0m\n\u001b[1;32m----> 1\u001b[0m a[\u001b[38;5;241m1\u001b[39m]\u001b[38;5;241m=\u001b[39m\u001b[38;5;241m5\u001b[39m\n\u001b[0;32m      2\u001b[0m a\n",
      "\u001b[1;31mTypeError\u001b[0m: 'tuple' object does not support item assignment"
     ]
    }
   ],
   "source": [
    "a[1]=5# tuple is immutable\n",
    "a"
   ]
  },
  {
   "cell_type": "code",
   "execution_count": 42,
   "id": "28a8da98",
   "metadata": {},
   "outputs": [
    {
     "data": {
      "text/plain": [
       "True"
      ]
     },
     "execution_count": 42,
     "metadata": {},
     "output_type": "execute_result"
    }
   ],
   "source": [
    "a!=b"
   ]
  },
  {
   "cell_type": "code",
   "execution_count": 43,
   "id": "3e4a52ce",
   "metadata": {},
   "outputs": [
    {
     "data": {
      "text/plain": [
       "[1, 2, 'prashant', 1, 2, 4]"
      ]
     },
     "execution_count": 43,
     "metadata": {},
     "output_type": "execute_result"
    }
   ],
   "source": [
    "c=a+b\n",
    "c"
   ]
  },
  {
   "cell_type": "code",
   "execution_count": 44,
   "id": "f1a37665",
   "metadata": {},
   "outputs": [
    {
     "data": {
      "text/plain": [
       "{1, 2, 4, 'prashant'}"
      ]
     },
     "execution_count": 44,
     "metadata": {},
     "output_type": "execute_result"
    }
   ],
   "source": [
    "t=set(c)\n",
    "t"
   ]
  },
  {
   "cell_type": "code",
   "execution_count": 46,
   "id": "887a9e47",
   "metadata": {},
   "outputs": [
    {
     "data": {
      "text/plain": [
       "True"
      ]
     },
     "execution_count": 46,
     "metadata": {},
     "output_type": "execute_result"
    }
   ],
   "source": [
    "(\"prashant\" in t)"
   ]
  },
  {
   "cell_type": "code",
   "execution_count": 52,
   "id": "946d23a2",
   "metadata": {},
   "outputs": [
    {
     "data": {
      "text/plain": [
       "set"
      ]
     },
     "execution_count": 52,
     "metadata": {},
     "output_type": "execute_result"
    }
   ],
   "source": [
    "#Tuple and set\n",
    "a={1,2,3}\n",
    "type(a)"
   ]
  },
  {
   "cell_type": "code",
   "execution_count": 53,
   "id": "8c72c808",
   "metadata": {},
   "outputs": [
    {
     "data": {
      "text/plain": [
       "dict"
      ]
     },
     "execution_count": 53,
     "metadata": {},
     "output_type": "execute_result"
    }
   ],
   "source": [
    "b={}\n",
    "type(b)"
   ]
  },
  {
   "cell_type": "code",
   "execution_count": 54,
   "id": "6e19216c",
   "metadata": {},
   "outputs": [
    {
     "data": {
      "text/plain": [
       "set"
      ]
     },
     "execution_count": 54,
     "metadata": {},
     "output_type": "execute_result"
    }
   ],
   "source": [
    "c=set()\n",
    "type(c)"
   ]
  },
  {
   "cell_type": "code",
   "execution_count": 55,
   "id": "b720ab9e",
   "metadata": {},
   "outputs": [
    {
     "data": {
      "text/plain": [
       "tuple"
      ]
     },
     "execution_count": 55,
     "metadata": {},
     "output_type": "execute_result"
    }
   ],
   "source": [
    "#empty tuple\n",
    "d=()\n",
    "type(d)"
   ]
  },
  {
   "cell_type": "code",
   "execution_count": 58,
   "id": "71492fc6",
   "metadata": {},
   "outputs": [
    {
     "data": {
      "text/plain": [
       "45"
      ]
     },
     "execution_count": 58,
     "metadata": {},
     "output_type": "execute_result"
    }
   ],
   "source": [
    "d=(1+2+3+4+5)\n",
    "d*3\n"
   ]
  },
  {
   "cell_type": "code",
   "execution_count": 61,
   "id": "3d278972",
   "metadata": {},
   "outputs": [
    {
     "data": {
      "text/plain": [
       "int"
      ]
     },
     "execution_count": 61,
     "metadata": {},
     "output_type": "execute_result"
    }
   ],
   "source": [
    "t=(10)\n",
    "type(t)"
   ]
  },
  {
   "cell_type": "code",
   "execution_count": 62,
   "id": "96a7f283",
   "metadata": {},
   "outputs": [
    {
     "data": {
      "text/plain": [
       "tuple"
      ]
     },
     "execution_count": 62,
     "metadata": {},
     "output_type": "execute_result"
    }
   ],
   "source": [
    "s=(10,)\n",
    "type(s)"
   ]
  },
  {
   "cell_type": "code",
   "execution_count": 69,
   "id": "57c8ce01",
   "metadata": {},
   "outputs": [
    {
     "data": {
      "text/plain": [
       "7"
      ]
     },
     "execution_count": 69,
     "metadata": {},
     "output_type": "execute_result"
    }
   ],
   "source": [
    "t=((10,20,30,40,10),10,20,30,10,20,10)\n",
    "len(t)"
   ]
  },
  {
   "cell_type": "code",
   "execution_count": 70,
   "id": "0954569f",
   "metadata": {},
   "outputs": [
    {
     "data": {
      "text/plain": [
       "3"
      ]
     },
     "execution_count": 70,
     "metadata": {},
     "output_type": "execute_result"
    }
   ],
   "source": [
    "t.count(10)"
   ]
  },
  {
   "cell_type": "code",
   "execution_count": 71,
   "id": "0a3f6616",
   "metadata": {},
   "outputs": [
    {
     "data": {
      "text/plain": [
       "1"
      ]
     },
     "execution_count": 71,
     "metadata": {},
     "output_type": "execute_result"
    }
   ],
   "source": [
    "t.count(30)"
   ]
  },
  {
   "cell_type": "code",
   "execution_count": 97,
   "id": "1f87db95",
   "metadata": {},
   "outputs": [
    {
     "name": "stdout",
     "output_type": "stream",
     "text": [
      "[(10, 20, 30, 40, 10), 10, 20, 30, 10, 20, 10]\n"
     ]
    }
   ],
   "source": [
    "b=list(t)\n",
    "print(b)"
   ]
  },
  {
   "cell_type": "code",
   "execution_count": 98,
   "id": "eb143fcc",
   "metadata": {},
   "outputs": [
    {
     "ename": "TypeError",
     "evalue": "'>' not supported between instances of 'int' and 'tuple'",
     "output_type": "error",
     "traceback": [
      "\u001b[1;31m---------------------------------------------------------------------------\u001b[0m",
      "\u001b[1;31mTypeError\u001b[0m                                 Traceback (most recent call last)",
      "Cell \u001b[1;32mIn[98], line 1\u001b[0m\n\u001b[1;32m----> 1\u001b[0m \u001b[38;5;28mmax\u001b[39m(b)\n",
      "\u001b[1;31mTypeError\u001b[0m: '>' not supported between instances of 'int' and 'tuple'"
     ]
    }
   ],
   "source": [
    "max(b)"
   ]
  },
  {
   "cell_type": "code",
   "execution_count": 96,
   "id": "eff57e36",
   "metadata": {},
   "outputs": [
    {
     "data": {
      "text/plain": [
       "[10, 11, 13, 14, 21, 32, 42, 42, 321]"
      ]
     },
     "execution_count": 96,
     "metadata": {},
     "output_type": "execute_result"
    }
   ],
   "source": [
    "#asecending order\n",
    "a=(10,21,321,32,42,42,11,13,14)\n",
    "b=sorted(a)\n",
    "(b)\n"
   ]
  },
  {
   "cell_type": "code",
   "execution_count": 80,
   "id": "3d9faf4e",
   "metadata": {},
   "outputs": [
    {
     "data": {
      "text/plain": [
       "[321, 42, 42, 32, 21, 14, 13, 11, 10]"
      ]
     },
     "execution_count": 80,
     "metadata": {},
     "output_type": "execute_result"
    }
   ],
   "source": [
    "#decending order\n",
    "b[ : : -1]"
   ]
  },
  {
   "cell_type": "code",
   "execution_count": null,
   "id": "e94910f8",
   "metadata": {},
   "outputs": [],
   "source": []
  },
  {
   "cell_type": "code",
   "execution_count": 91,
   "id": "389dc4fc",
   "metadata": {},
   "outputs": [
    {
     "data": {
      "text/plain": [
       "(321, 42, 42, 32, 21, 14, 13, 11, 10)"
      ]
     },
     "execution_count": 91,
     "metadata": {},
     "output_type": "execute_result"
    }
   ],
   "source": [
    "p=(10,21,321,32,42,42,11,13,14)\n",
    "q=sorted(p,reverse=True)\n",
    "tuple(q)"
   ]
  },
  {
   "cell_type": "code",
   "execution_count": null,
   "id": "d5e87604",
   "metadata": {},
   "outputs": [],
   "source": [
    "a=(10,21,321,32,42,42,11,13,14)"
   ]
  },
  {
   "cell_type": "code",
   "execution_count": 93,
   "id": "27448b94",
   "metadata": {},
   "outputs": [
    {
     "data": {
      "text/plain": [
       "321"
      ]
     },
     "execution_count": 93,
     "metadata": {},
     "output_type": "execute_result"
    }
   ],
   "source": [
    "max(a)"
   ]
  },
  {
   "cell_type": "code",
   "execution_count": 94,
   "id": "42199956",
   "metadata": {},
   "outputs": [
    {
     "data": {
      "text/plain": [
       "10"
      ]
     },
     "execution_count": 94,
     "metadata": {},
     "output_type": "execute_result"
    }
   ],
   "source": [
    "min(a)"
   ]
  },
  {
   "cell_type": "code",
   "execution_count": 99,
   "id": "04812ff8",
   "metadata": {},
   "outputs": [
    {
     "data": {
      "text/plain": [
       "6"
      ]
     },
     "execution_count": 99,
     "metadata": {},
     "output_type": "execute_result"
    }
   ],
   "source": [
    "z=[1,2,3,4,4,5,6]\n",
    "max(z)"
   ]
  },
  {
   "cell_type": "code",
   "execution_count": 100,
   "id": "55976de3",
   "metadata": {},
   "outputs": [
    {
     "data": {
      "text/plain": [
       "1"
      ]
     },
     "execution_count": 100,
     "metadata": {},
     "output_type": "execute_result"
    }
   ],
   "source": [
    "min(z)"
   ]
  },
  {
   "cell_type": "code",
   "execution_count": 110,
   "id": "32f27c19",
   "metadata": {},
   "outputs": [
    {
     "data": {
      "text/plain": [
       "tuple"
      ]
     },
     "execution_count": 110,
     "metadata": {},
     "output_type": "execute_result"
    }
   ],
   "source": [
    "#packing into tuple\n",
    "a=1\n",
    "b=\"pankaj\"\n",
    "c=20\n",
    "d=-12\n",
    "x=a,b,c,d\n",
    "type(x)"
   ]
  },
  {
   "cell_type": "code",
   "execution_count": 111,
   "id": "7ffedb62",
   "metadata": {},
   "outputs": [
    {
     "data": {
      "text/plain": [
       "(1, 'pankaj', 20, -12)"
      ]
     },
     "execution_count": 111,
     "metadata": {},
     "output_type": "execute_result"
    }
   ],
   "source": [
    "x"
   ]
  },
  {
   "cell_type": "code",
   "execution_count": 112,
   "id": "6ceee720",
   "metadata": {},
   "outputs": [
    {
     "name": "stdout",
     "output_type": "stream",
     "text": [
      "1 pankaj 20 -12\n"
     ]
    }
   ],
   "source": [
    "#inpacking from tuple\n",
    "e,f,g,h=x\n",
    "print(e,f,g,h)"
   ]
  },
  {
   "cell_type": "code",
   "execution_count": 115,
   "id": "eade1492",
   "metadata": {},
   "outputs": [
    {
     "data": {
      "text/plain": [
       "tuple"
      ]
     },
     "execution_count": 115,
     "metadata": {},
     "output_type": "execute_result"
    }
   ],
   "source": [
    "#set\n",
    "s=()\n",
    "type(s)"
   ]
  },
  {
   "cell_type": "code",
   "execution_count": 116,
   "id": "6951152c",
   "metadata": {},
   "outputs": [
    {
     "data": {
      "text/plain": [
       "dict"
      ]
     },
     "execution_count": 116,
     "metadata": {},
     "output_type": "execute_result"
    }
   ],
   "source": [
    "p={}\n",
    "type(p)"
   ]
  },
  {
   "cell_type": "code",
   "execution_count": 119,
   "id": "8bb996b0",
   "metadata": {},
   "outputs": [
    {
     "data": {
      "text/plain": [
       "set"
      ]
     },
     "execution_count": 119,
     "metadata": {},
     "output_type": "execute_result"
    }
   ],
   "source": [
    "s={2}\n",
    "type(s)"
   ]
  },
  {
   "cell_type": "code",
   "execution_count": 117,
   "id": "7c54bb44",
   "metadata": {},
   "outputs": [
    {
     "data": {
      "text/plain": [
       "set"
      ]
     },
     "execution_count": 117,
     "metadata": {},
     "output_type": "execute_result"
    }
   ],
   "source": [
    "#empty set\n",
    "r=set()\n",
    "type(r)"
   ]
  },
  {
   "cell_type": "code",
   "execution_count": 122,
   "id": "2e45f74d",
   "metadata": {},
   "outputs": [
    {
     "data": {
      "text/plain": [
       "{1, 4, 5, 6, 'prashant'}"
      ]
     },
     "execution_count": 122,
     "metadata": {},
     "output_type": "execute_result"
    }
   ],
   "source": [
    "#add\n",
    "s={1,4,5,6}\n",
    "s.add(\"prashant\")\n",
    "s"
   ]
  },
  {
   "cell_type": "code",
   "execution_count": 124,
   "id": "f3ee380c",
   "metadata": {},
   "outputs": [
    {
     "data": {
      "text/plain": [
       "{1, 10, 20, 4, 5, 6, 'prashant'}"
      ]
     },
     "execution_count": 124,
     "metadata": {},
     "output_type": "execute_result"
    }
   ],
   "source": [
    "# uodate()\n",
    "s.update([10,20,1,5])\n",
    "s"
   ]
  },
  {
   "cell_type": "code",
   "execution_count": 126,
   "id": "a32f51c3",
   "metadata": {},
   "outputs": [
    {
     "data": {
      "text/plain": [
       "{1, '1', 10, 20, 4, 5, 6, '9', 'prashant'}"
      ]
     },
     "execution_count": 126,
     "metadata": {},
     "output_type": "execute_result"
    }
   ],
   "source": [
    "s.update(\"199\")\n",
    "s"
   ]
  },
  {
   "cell_type": "code",
   "execution_count": 127,
   "id": "5cc74bc9",
   "metadata": {},
   "outputs": [
    {
     "data": {
      "text/plain": [
       "{1, '1', 10, 20, 23, 33, 4, 5, 6, '9', 'prashant'}"
      ]
     },
     "execution_count": 127,
     "metadata": {},
     "output_type": "execute_result"
    }
   ],
   "source": [
    "s.update((10,23,33))\n",
    "s"
   ]
  },
  {
   "cell_type": "code",
   "execution_count": 129,
   "id": "b625d476",
   "metadata": {},
   "outputs": [
    {
     "data": {
      "text/plain": [
       "{1, '1', 10, 20, 23, 33, 4, 5, 6, '9', 900, 'prashant'}"
      ]
     },
     "execution_count": 129,
     "metadata": {},
     "output_type": "execute_result"
    }
   ],
   "source": [
    "s.update((900,))\n",
    "s"
   ]
  },
  {
   "cell_type": "code",
   "execution_count": 137,
   "id": "1330ed32",
   "metadata": {},
   "outputs": [
    {
     "data": {
      "text/plain": [
       "{11, 12, 13}"
      ]
     },
     "execution_count": 137,
     "metadata": {},
     "output_type": "execute_result"
    }
   ],
   "source": [
    "#copy\n",
    "g={10,12,11,13}\n",
    "h={11,13,22,10}\n",
    "g.pop()\n",
    "g"
   ]
  },
  {
   "cell_type": "code",
   "execution_count": 139,
   "id": "9364e6be",
   "metadata": {},
   "outputs": [
    {
     "data": {
      "text/plain": [
       "{12, 13}"
      ]
     },
     "execution_count": 139,
     "metadata": {},
     "output_type": "execute_result"
    }
   ],
   "source": [
    "g.remove(11)\n",
    "g"
   ]
  },
  {
   "cell_type": "code",
   "execution_count": 141,
   "id": "3beb7094",
   "metadata": {},
   "outputs": [
    {
     "data": {
      "text/plain": [
       "set()"
      ]
     },
     "execution_count": 141,
     "metadata": {},
     "output_type": "execute_result"
    }
   ],
   "source": [
    "#clear\n",
    "g.clear()\n",
    "g"
   ]
  },
  {
   "cell_type": "code",
   "execution_count": 143,
   "id": "2c1fd54d",
   "metadata": {},
   "outputs": [
    {
     "name": "stdout",
     "output_type": "stream",
     "text": [
      "{1, 3, 6, 11, 12, 45}\n",
      "{1, 3, 6, 11, 12, 45}\n"
     ]
    }
   ],
   "source": [
    "#union intersection\n",
    "a={1,3,45,6,1}\n",
    "b={11,12,3,6,1}\n",
    "print(a.union(b))\n",
    "print(b.union(a))"
   ]
  },
  {
   "cell_type": "code",
   "execution_count": 144,
   "id": "78d66d22",
   "metadata": {},
   "outputs": [
    {
     "name": "stdout",
     "output_type": "stream",
     "text": [
      "{1, 3, 6}\n",
      "{1, 3, 6}\n"
     ]
    }
   ],
   "source": [
    "print(a.intersection(b))\n",
    "print(b.intersection(a))\n"
   ]
  },
  {
   "cell_type": "code",
   "execution_count": 145,
   "id": "8926bf07",
   "metadata": {},
   "outputs": [
    {
     "data": {
      "text/plain": [
       "{1, 3, 6}"
      ]
     },
     "execution_count": 145,
     "metadata": {},
     "output_type": "execute_result"
    }
   ],
   "source": [
    "a&b"
   ]
  },
  {
   "cell_type": "code",
   "execution_count": 146,
   "id": "ac86c8df",
   "metadata": {},
   "outputs": [
    {
     "data": {
      "text/plain": [
       "{1, 3, 6, 11, 12, 45}"
      ]
     },
     "execution_count": 146,
     "metadata": {},
     "output_type": "execute_result"
    }
   ],
   "source": [
    "a|b"
   ]
  },
  {
   "cell_type": "code",
   "execution_count": 147,
   "id": "93d7e44d",
   "metadata": {},
   "outputs": [
    {
     "data": {
      "text/plain": [
       "{45}"
      ]
     },
     "execution_count": 147,
     "metadata": {},
     "output_type": "execute_result"
    }
   ],
   "source": [
    "#difference\n",
    "a.difference(b)"
   ]
  },
  {
   "cell_type": "code",
   "execution_count": 148,
   "id": "d898287e",
   "metadata": {},
   "outputs": [
    {
     "data": {
      "text/plain": [
       "{11, 12}"
      ]
     },
     "execution_count": 148,
     "metadata": {},
     "output_type": "execute_result"
    }
   ],
   "source": [
    "b.difference(a)"
   ]
  },
  {
   "cell_type": "code",
   "execution_count": 149,
   "id": "7263da84",
   "metadata": {},
   "outputs": [
    {
     "data": {
      "text/plain": [
       "{11, 12, 45}"
      ]
     },
     "execution_count": 149,
     "metadata": {},
     "output_type": "execute_result"
    }
   ],
   "source": [
    "#symmetric difference means a union b -a intersection b\n",
    "a.symmetric_difference(b)"
   ]
  },
  {
   "cell_type": "code",
   "execution_count": 150,
   "id": "86330446",
   "metadata": {},
   "outputs": [
    {
     "data": {
      "text/plain": [
       "{11, 12, 45}"
      ]
     },
     "execution_count": 150,
     "metadata": {},
     "output_type": "execute_result"
    }
   ],
   "source": [
    "b.symmetric_difference(a)"
   ]
  },
  {
   "cell_type": "code",
   "execution_count": 151,
   "id": "725eadf9",
   "metadata": {},
   "outputs": [
    {
     "data": {
      "text/plain": [
       "{11, 12, 45}"
      ]
     },
     "execution_count": 151,
     "metadata": {},
     "output_type": "execute_result"
    }
   ],
   "source": [
    "a^b"
   ]
  },
  {
   "cell_type": "code",
   "execution_count": 152,
   "id": "10ba498e",
   "metadata": {},
   "outputs": [
    {
     "data": {
      "text/plain": [
       "{11, 12, 45}"
      ]
     },
     "execution_count": 152,
     "metadata": {},
     "output_type": "execute_result"
    }
   ],
   "source": [
    "b^a"
   ]
  },
  {
   "cell_type": "code",
   "execution_count": 20,
   "id": "495b85ba",
   "metadata": {},
   "outputs": [
    {
     "data": {
      "text/plain": [
       "dict"
      ]
     },
     "execution_count": 20,
     "metadata": {},
     "output_type": "execute_result"
    }
   ],
   "source": [
    "#dictionary\n",
    "#empty dict\n",
    "a={}\n",
    "type(a)"
   ]
  },
  {
   "cell_type": "code",
   "execution_count": null,
   "id": "0c0102b3",
   "metadata": {},
   "outputs": [],
   "source": [
    "#ADD"
   ]
  },
  {
   "cell_type": "code",
   "execution_count": 21,
   "id": "cc2e98f2",
   "metadata": {},
   "outputs": [
    {
     "data": {
      "text/plain": [
       "{1: 'prashant'}"
      ]
     },
     "execution_count": 21,
     "metadata": {},
     "output_type": "execute_result"
    }
   ],
   "source": [
    "a[1]=\"prashant\"\n",
    "a"
   ]
  },
  {
   "cell_type": "code",
   "execution_count": 22,
   "id": "a57fe852",
   "metadata": {},
   "outputs": [
    {
     "data": {
      "text/plain": [
       "{1: 'prashant', 3: 45}"
      ]
     },
     "execution_count": 22,
     "metadata": {},
     "output_type": "execute_result"
    }
   ],
   "source": [
    "a[3]=45\n",
    "a"
   ]
  },
  {
   "cell_type": "code",
   "execution_count": 23,
   "id": "620c299a",
   "metadata": {},
   "outputs": [
    {
     "data": {
      "text/plain": [
       "{1: 'prashant', 3: 45, 2: 'dangi'}"
      ]
     },
     "execution_count": 23,
     "metadata": {},
     "output_type": "execute_result"
    }
   ],
   "source": [
    "a[2]=\"dangi\"\n",
    "a"
   ]
  },
  {
   "cell_type": "code",
   "execution_count": 24,
   "id": "2da9a5ed",
   "metadata": {},
   "outputs": [
    {
     "data": {
      "text/plain": [
       "'dangi'"
      ]
     },
     "execution_count": 24,
     "metadata": {},
     "output_type": "execute_result"
    }
   ],
   "source": [
    "#remove\n",
    "a.pop(2)\n"
   ]
  },
  {
   "cell_type": "code",
   "execution_count": 25,
   "id": "53e09b57",
   "metadata": {},
   "outputs": [
    {
     "data": {
      "text/plain": [
       "{1: 'prashant', 3: 45}"
      ]
     },
     "execution_count": 25,
     "metadata": {},
     "output_type": "execute_result"
    }
   ],
   "source": [
    "a"
   ]
  },
  {
   "cell_type": "code",
   "execution_count": 35,
   "id": "39cf034a",
   "metadata": {},
   "outputs": [
    {
     "name": "stdout",
     "output_type": "stream",
     "text": [
      "{1: 'prashant', 'singh': 1, 2: 'dangi', 3: 5, 6: 6}\n"
     ]
    }
   ],
   "source": [
    "d={1:\"prashant\",'singh':1,2:\"dangi\",3:5,6:6}\n",
    "print(d)"
   ]
  },
  {
   "cell_type": "code",
   "execution_count": 39,
   "id": "f5a0a005",
   "metadata": {},
   "outputs": [
    {
     "data": {
      "text/plain": [
       "{1: None, 'singh': None, 2: None, 'dangi': None, 3: None, 6: None}"
      ]
     },
     "execution_count": 39,
     "metadata": {},
     "output_type": "execute_result"
    }
   ],
   "source": [
    "#creating dict form a list of keys\n",
    "dict.fromkeys([1,\"singh\",2,\"dangi\",3,6])"
   ]
  },
  {
   "cell_type": "code",
   "execution_count": 40,
   "id": "6614dc1e",
   "metadata": {},
   "outputs": [
    {
     "data": {
      "text/plain": [
       "{1: 5, 'singh': 5, 2: 5, 'dangi': 5, 3: 5, 6: 5}"
      ]
     },
     "execution_count": 40,
     "metadata": {},
     "output_type": "execute_result"
    }
   ],
   "source": [
    "#creating dict form a list of keys by giving value \n",
    "dict.fromkeys([1,\"singh\",2,\"dangi\",3,6],5)"
   ]
  },
  {
   "cell_type": "code",
   "execution_count": 47,
   "id": "49c7f4d0",
   "metadata": {},
   "outputs": [
    {
     "data": {
      "text/plain": [
       "[('pk', 1), ('rkm', 2), ('skm', 3)]"
      ]
     },
     "execution_count": 47,
     "metadata": {},
     "output_type": "execute_result"
    }
   ],
   "source": [
    "#convert list to dict\n",
    "l=[(\"pk\",1),(\"rkm\",2),(\"skm\",3)]\n",
    "l"
   ]
  },
  {
   "cell_type": "code",
   "execution_count": 51,
   "id": "b6222e48",
   "metadata": {},
   "outputs": [
    {
     "name": "stdout",
     "output_type": "stream",
     "text": [
      "{'pk': 1, 'rkm': 2, 'skm': 3}\n"
     ]
    }
   ],
   "source": [
    "d=dict(l)\n",
    "print(d)"
   ]
  },
  {
   "cell_type": "code",
   "execution_count": 57,
   "id": "cab5949d",
   "metadata": {},
   "outputs": [
    {
     "data": {
      "text/plain": [
       "1"
      ]
     },
     "execution_count": 57,
     "metadata": {},
     "output_type": "execute_result"
    }
   ],
   "source": [
    "#assecing element\n",
    "d[\"pk\"]"
   ]
  },
  {
   "cell_type": "code",
   "execution_count": 58,
   "id": "f93996f1",
   "metadata": {},
   "outputs": [
    {
     "data": {
      "text/plain": [
       "2"
      ]
     },
     "execution_count": 58,
     "metadata": {},
     "output_type": "execute_result"
    }
   ],
   "source": [
    "d[\"rkm\"]"
   ]
  },
  {
   "cell_type": "code",
   "execution_count": 59,
   "id": "ee4c67ad",
   "metadata": {},
   "outputs": [
    {
     "data": {
      "text/plain": [
       "1"
      ]
     },
     "execution_count": 59,
     "metadata": {},
     "output_type": "execute_result"
    }
   ],
   "source": [
    "#another method\n",
    "d.get(\"pk\")"
   ]
  },
  {
   "cell_type": "code",
   "execution_count": 60,
   "id": "3250658d",
   "metadata": {},
   "outputs": [
    {
     "data": {
      "text/plain": [
       "3"
      ]
     },
     "execution_count": 60,
     "metadata": {},
     "output_type": "execute_result"
    }
   ],
   "source": [
    "d.get(\"skm\")"
   ]
  },
  {
   "cell_type": "code",
   "execution_count": 63,
   "id": "5bafa993",
   "metadata": {},
   "outputs": [
    {
     "name": "stdout",
     "output_type": "stream",
     "text": [
      "None\n"
     ]
    }
   ],
   "source": [
    "print(d.get(69))"
   ]
  },
  {
   "cell_type": "code",
   "execution_count": 64,
   "id": "a83aec37",
   "metadata": {},
   "outputs": [
    {
     "data": {
      "text/plain": [
       "dict_items([(1, 'pankaj'), (2, 'kumar'), (3, 'singh'), ('prashant', 4), ('dangi', 5)])"
      ]
     },
     "execution_count": 64,
     "metadata": {},
     "output_type": "execute_result"
    }
   ],
   "source": [
    "#finding keys ,values,items of dict\n",
    "p={1:\"pankaj\",2:\"kumar\",3:\"singh\",\"prashant\":4,\"dangi\":5}\n",
    "p.items()"
   ]
  },
  {
   "cell_type": "code",
   "execution_count": 65,
   "id": "ebd55895",
   "metadata": {},
   "outputs": [
    {
     "data": {
      "text/plain": [
       "dict_values(['pankaj', 'kumar', 'singh', 4, 5])"
      ]
     },
     "execution_count": 65,
     "metadata": {},
     "output_type": "execute_result"
    }
   ],
   "source": [
    "p.values()"
   ]
  },
  {
   "cell_type": "code",
   "execution_count": 66,
   "id": "59628270",
   "metadata": {},
   "outputs": [
    {
     "data": {
      "text/plain": [
       "dict_keys([1, 2, 3, 'prashant', 'dangi'])"
      ]
     },
     "execution_count": 66,
     "metadata": {},
     "output_type": "execute_result"
    }
   ],
   "source": [
    "p.keys()"
   ]
  },
  {
   "cell_type": "code",
   "execution_count": 67,
   "id": "9f868fc3",
   "metadata": {},
   "outputs": [
    {
     "name": "stdout",
     "output_type": "stream",
     "text": [
      "1\n",
      "2\n",
      "3\n",
      "prashant\n",
      "dangi\n"
     ]
    }
   ],
   "source": [
    "#iteration x===>gives keys of dict\n",
    "for x in p:\n",
    "    print(x)"
   ]
  },
  {
   "cell_type": "code",
   "execution_count": 69,
   "id": "4f49bc01",
   "metadata": {},
   "outputs": [
    {
     "name": "stdout",
     "output_type": "stream",
     "text": [
      "pankaj\n",
      "kumar\n",
      "singh\n",
      "4\n",
      "5\n"
     ]
    }
   ],
   "source": [
    "#[x]==> gives value of dict\n",
    "for x in p:\n",
    "    print(p[x])"
   ]
  },
  {
   "cell_type": "code",
   "execution_count": 72,
   "id": "3c9d9c69",
   "metadata": {},
   "outputs": [
    {
     "name": "stdout",
     "output_type": "stream",
     "text": [
      "1 pankaj\n",
      "2 kumar\n",
      "3 singh\n",
      "prashant 4\n",
      "dangi 5\n"
     ]
    }
   ],
   "source": [
    "#[x]==> gives key value of dict\n",
    "#\n",
    "for x in p:\n",
    "    print(x,p[x])"
   ]
  },
  {
   "cell_type": "code",
   "execution_count": 81,
   "id": "998d834a",
   "metadata": {},
   "outputs": [
    {
     "name": "stdout",
     "output_type": "stream",
     "text": [
      "first dict= {1: 'arun', 2: 'sharma', 3: 52, 4: 44, 5: 55, 6: 'dangi'}\n",
      "2nd dict= {1: 'arun', 3: 52, 6: 'dangi'}\n"
     ]
    }
   ],
   "source": [
    "a={1:\"pankaj\",2:\"sharma\",3:3,4:44,5:55}\n",
    "b={1:\"arun\",3:52,6:\"dangi\"}\n",
    "#update ==>from common key pair from b come to the a\n",
    "a.update(b)\n",
    "print(\"first dict=\",a)\n",
    "print(\"2nd dict=\",b)"
   ]
  },
  {
   "cell_type": "code",
   "execution_count": 80,
   "id": "d245bb3d",
   "metadata": {},
   "outputs": [
    {
     "name": "stdout",
     "output_type": "stream",
     "text": [
      "first dict= {1: 'pankaj', 2: 'sharma', 3: 3, 4: 44, 5: 55}\n",
      "2nd dict= {1: 'pankaj', 3: 3, 6: 'dangi', 2: 'sharma', 4: 44, 5: 55}\n"
     ]
    }
   ],
   "source": [
    "#update ==>from common key pair from a come to the b\n",
    "b.update(a)\n",
    "print(\"first dict=\",a)\n",
    "print(\"2nd dict=\",b)"
   ]
  },
  {
   "cell_type": "code",
   "execution_count": 84,
   "id": "b4497adf",
   "metadata": {},
   "outputs": [
    {
     "name": "stdout",
     "output_type": "stream",
     "text": [
      "enter stringpankaj sharma is pankaj sharma\n",
      "{'pankaj': 2, 'sharma': 2, 'is': 1}\n"
     ]
    }
   ],
   "source": [
    "# counting of repetation of word \n",
    "n=input(\"enter string\")\n",
    "l=n.split()\n",
    "d={}\n",
    "for word in l:\n",
    "    if word in d:\n",
    "        d[word]=d[word]+1\n",
    "    else:\n",
    "        d[word]=1\n",
    "print(d)"
   ]
  },
  {
   "cell_type": "code",
   "execution_count": 85,
   "id": "e4f42d9c",
   "metadata": {},
   "outputs": [
    {
     "name": "stdout",
     "output_type": "stream",
     "text": [
      "enter stringprashant is prashant dangi singh\n",
      "{'prashant': 2, 'is': 1, 'dangi': 1, 'singh': 1}\n"
     ]
    }
   ],
   "source": [
    "#another method to solve above problem\n",
    "n=input(\"enter string\")\n",
    "l=n.split()\n",
    "d={}\n",
    "for word in l:\n",
    "    d[word]=d.get(word,0)+1\n",
    "print(d)"
   ]
  },
  {
   "cell_type": "code",
   "execution_count": 98,
   "id": "8540ba67",
   "metadata": {},
   "outputs": [
    {
     "name": "stdout",
     "output_type": "stream",
     "text": [
      "True\n"
     ]
    }
   ],
   "source": [
    "#delete\n",
    "a={1:11,2:22,3:33,44:4,5:\"singh\"}\n",
    "print(1 in a)# enter  keys only in reletionship operator"
   ]
  },
  {
   "cell_type": "code",
   "execution_count": 100,
   "id": "57b8d85b",
   "metadata": {},
   "outputs": [
    {
     "data": {
      "text/plain": [
       "{1: 11, 3: 33, 44: 4, 5: 'singh'}"
      ]
     },
     "execution_count": 100,
     "metadata": {},
     "output_type": "execute_result"
    }
   ],
   "source": [
    "del a[2]\n",
    "a"
   ]
  },
  {
   "cell_type": "code",
   "execution_count": 101,
   "id": "b4294d1c",
   "metadata": {},
   "outputs": [
    {
     "data": {
      "text/plain": [
       "{1: 11, 3: 33, 5: 'singh'}"
      ]
     },
     "execution_count": 101,
     "metadata": {},
     "output_type": "execute_result"
    }
   ],
   "source": [
    "del a[44]\n",
    "a"
   ]
  },
  {
   "cell_type": "code",
   "execution_count": 103,
   "id": "4c95333f",
   "metadata": {},
   "outputs": [
    {
     "ename": "NameError",
     "evalue": "name 'a' is not defined",
     "output_type": "error",
     "traceback": [
      "\u001b[1;31m---------------------------------------------------------------------------\u001b[0m",
      "\u001b[1;31mNameError\u001b[0m                                 Traceback (most recent call last)",
      "Cell \u001b[1;32mIn[103], line 1\u001b[0m\n\u001b[1;32m----> 1\u001b[0m \u001b[38;5;28;01mdel\u001b[39;00m a\n\u001b[0;32m      2\u001b[0m a\n",
      "\u001b[1;31mNameError\u001b[0m: name 'a' is not defined"
     ]
    }
   ],
   "source": [
    "del a\n",
    "a"
   ]
  },
  {
   "cell_type": "code",
   "execution_count": 104,
   "id": "5fb6acd6",
   "metadata": {},
   "outputs": [
    {
     "data": {
      "text/plain": [
       "{}"
      ]
     },
     "execution_count": 104,
     "metadata": {},
     "output_type": "execute_result"
    }
   ],
   "source": [
    "a={1:\"prashant\",2:\"dangi\",3:\"singh\"}\n",
    "a.clear()#clear==> it clear all element from dict\n",
    "a"
   ]
  },
  {
   "cell_type": "code",
   "execution_count": 110,
   "id": "499a8a79",
   "metadata": {},
   "outputs": [
    {
     "data": {
      "text/plain": [
       "'prashant'"
      ]
     },
     "execution_count": 110,
     "metadata": {},
     "output_type": "execute_result"
    }
   ],
   "source": [
    "p={1:\"prashant\",2:\"dangi\",3:\"singh\"}\n",
    "p.pop(1)#==>pop retun values"
   ]
  },
  {
   "cell_type": "code",
   "execution_count": 111,
   "id": "d6b0ccc0",
   "metadata": {},
   "outputs": [
    {
     "data": {
      "text/plain": [
       "{2: 'dangi', 3: 'singh'}"
      ]
     },
     "execution_count": 111,
     "metadata": {},
     "output_type": "execute_result"
    }
   ],
   "source": [
    "p"
   ]
  },
  {
   "cell_type": "code",
   "execution_count": 112,
   "id": "abf92ee1",
   "metadata": {},
   "outputs": [
    {
     "data": {
      "text/plain": [
       "(3, 'singh')"
      ]
     },
     "execution_count": 112,
     "metadata": {},
     "output_type": "execute_result"
    }
   ],
   "source": [
    "p.popitem()#==>it retun value don't take arg\n"
   ]
  },
  {
   "cell_type": "code",
   "execution_count": 113,
   "id": "6cd0e124",
   "metadata": {},
   "outputs": [
    {
     "data": {
      "text/plain": [
       "{2: 'dangi'}"
      ]
     },
     "execution_count": 113,
     "metadata": {},
     "output_type": "execute_result"
    }
   ],
   "source": [
    "p"
   ]
  },
  {
   "cell_type": "code",
   "execution_count": 5,
   "id": "99dcae12",
   "metadata": {},
   "outputs": [
    {
     "name": "stdout",
     "output_type": "stream",
     "text": [
      "enter your string=pankaj sharma\n",
      "amrahs jaknap"
     ]
    }
   ],
   "source": [
    "#string reverse without using function\n",
    "n=input(\"enter your string=\")\n",
    "l=len(n)\n",
    "for i in range(0,l):\n",
    "    print(n[l-i-1],end='')"
   ]
  },
  {
   "cell_type": "code",
   "execution_count": 12,
   "id": "60943d53",
   "metadata": {},
   "outputs": [
    {
     "name": "stdout",
     "output_type": "stream",
     "text": [
      "enter your string=shubham\n"
     ]
    },
    {
     "ename": "NameError",
     "evalue": "name 'string' is not defined",
     "output_type": "error",
     "traceback": [
      "\u001b[1;31m---------------------------------------------------------------------------\u001b[0m",
      "\u001b[1;31mNameError\u001b[0m                                 Traceback (most recent call last)",
      "Cell \u001b[1;32mIn[12], line 9\u001b[0m\n\u001b[0;32m      7\u001b[0m     l[i]\u001b[38;5;241m=\u001b[39ml[n\u001b[38;5;241m-\u001b[39m\u001b[38;5;241m1\u001b[39m\u001b[38;5;241m-\u001b[39mi]\n\u001b[0;32m      8\u001b[0m     l[n\u001b[38;5;241m-\u001b[39mi\u001b[38;5;241m-\u001b[39m\u001b[38;5;241m1\u001b[39m]\u001b[38;5;241m=\u001b[39mtemp\n\u001b[1;32m----> 9\u001b[0m \u001b[38;5;28mprint\u001b[39m(string(l))\n",
      "\u001b[1;31mNameError\u001b[0m: name 'string' is not defined"
     ]
    }
   ],
   "source": [
    "#reverse using swap method\n",
    "s=input(\"enter your string=\")\n",
    "l=list(s)\n",
    "n=len(l)\n",
    "for i in range(0,n//2):\n",
    "    temp=l[i]\n",
    "    l[i]=l[n-1-i]\n",
    "    l[n-i-1]=temp\n",
    "print(string(l))"
   ]
  },
  {
   "cell_type": "code",
   "execution_count": 4,
   "id": "13816961",
   "metadata": {},
   "outputs": [
    {
     "name": "stdout",
     "output_type": "stream",
     "text": [
      "enter any stringprashant kumar is prashant dangi\n",
      "{'prashant': 2, 'kumar': 1, 'is': 1, 'dangi': 1}\n"
     ]
    }
   ],
   "source": [
    "n=input(\"enter any string\")\n",
    "d={}\n",
    "l=n.split()\n",
    "for word in l:\n",
    "    if word in d:\n",
    "        d[word]=d[word]+1\n",
    "    else:\n",
    "        d[word]=1\n",
    "print(d)"
   ]
  },
  {
   "cell_type": "code",
   "execution_count": 5,
   "id": "e0d4a3b8",
   "metadata": {},
   "outputs": [
    {
     "name": "stdout",
     "output_type": "stream",
     "text": [
      "enter any stringpankaj sharma is pankaj sharma sir\n"
     ]
    },
    {
     "data": {
      "text/plain": [
       "{'pankaj': 2, 'sharma': 2, 'is': 1, 'sir': 1}"
      ]
     },
     "execution_count": 5,
     "metadata": {},
     "output_type": "execute_result"
    }
   ],
   "source": [
    "n=input(\"enter any string=\")\n",
    "d={}\n",
    "l=n.split()\n",
    "for word in l:\n",
    "    d[word]=d.get(word,0)+1\n",
    "d"
   ]
  },
  {
   "cell_type": "code",
   "execution_count": 2,
   "id": "13da64c2",
   "metadata": {},
   "outputs": [
    {
     "name": "stdout",
     "output_type": "stream",
     "text": [
      "[1, 2, 3, 4, 1, 2, 3, 54, 63, 21, 1, 2, 12, 3, 4]\n",
      "<class 'list'>\n",
      "<class 'int'>\n",
      "enter your count element=2\n",
      "no of repetation of digit is 3\n"
     ]
    }
   ],
   "source": [
    "#doubt\n",
    "#count without using function\n",
    "l=[1,2,3,4,1,2,3,54,63,21,1,2,12,3,4]\n",
    "print(l)\n",
    "print(type(l))\n",
    "print(type(l[2]))\n",
    "c=0\n",
    "n=int(input(\"enter your count element=\"))\n",
    "for i in l:\n",
    "    if n==i:\n",
    "        c=c+1\n",
    "print(\"no of repetation of digit is\",c)\n",
    "    "
   ]
  },
  {
   "cell_type": "code",
   "execution_count": 12,
   "id": "d964a18f",
   "metadata": {},
   "outputs": [
    {
     "name": "stdout",
     "output_type": "stream",
     "text": [
      "enter no=prashant\n",
      "prashant\n"
     ]
    }
   ],
   "source": [
    "p=(input(\"enter no=\"))\n",
    "print(p)"
   ]
  },
  {
   "cell_type": "code",
   "execution_count": 14,
   "id": "367ae78b",
   "metadata": {},
   "outputs": [
    {
     "name": "stdout",
     "output_type": "stream",
     "text": [
      "[1, 2, 8, 11, 15, 13]\n"
     ]
    }
   ],
   "source": [
    "#intersection of 2 list without any function using\n",
    "l1=[1,2,5,6,7,8,11,23,43,15,13]\n",
    "l2=[1,13,11,15,2,3,8,45,62,12]\n",
    "l3=[]\n",
    "for i in l1:\n",
    "    if i in l2:\n",
    "        l3.append(i)\n",
    "print(l3)"
   ]
  },
  {
   "cell_type": "code",
   "execution_count": 15,
   "id": "23f181cc",
   "metadata": {},
   "outputs": [
    {
     "name": "stdout",
     "output_type": "stream",
     "text": [
      "[1, 13, 11, 15, 2, 8]\n"
     ]
    }
   ],
   "source": [
    "#or\n",
    "l4=[]\n",
    "for i in l2:\n",
    "    if i in l1:\n",
    "        l4.append(i)\n",
    "print(l4)"
   ]
  },
  {
   "cell_type": "code",
   "execution_count": 16,
   "id": "79a3d833",
   "metadata": {},
   "outputs": [
    {
     "ename": "TypeError",
     "evalue": "unsupported operand type(s) for -: 'list' and 'list'",
     "output_type": "error",
     "traceback": [
      "\u001b[1;31m---------------------------------------------------------------------------\u001b[0m",
      "\u001b[1;31mTypeError\u001b[0m                                 Traceback (most recent call last)",
      "Cell \u001b[1;32mIn[16], line 3\u001b[0m\n\u001b[0;32m      1\u001b[0m \u001b[38;5;66;03m#union\u001b[39;00m\n\u001b[0;32m      2\u001b[0m a\u001b[38;5;241m=\u001b[39ml1\u001b[38;5;241m+\u001b[39ml2\n\u001b[1;32m----> 3\u001b[0m a\u001b[38;5;241m-\u001b[39ml3\n",
      "\u001b[1;31mTypeError\u001b[0m: unsupported operand type(s) for -: 'list' and 'list'"
     ]
    }
   ],
   "source": [
    "#union\n",
    "a=l1+l2\n"
   ]
  },
  {
   "cell_type": "code",
   "execution_count": 30,
   "id": "4d12b42c",
   "metadata": {},
   "outputs": [
    {
     "name": "stdout",
     "output_type": "stream",
     "text": [
      "7\n",
      "[3, 10]\n"
     ]
    }
   ],
   "source": [
    "#peak element\n",
    "l=[1,3,2,5,8,10,7]\n",
    "print(len(l))\n",
    "l1=[]\n",
    "for i in range(len(l)-2):\n",
    "    #if(l[i]>l[i+1]):\n",
    "      #  l1.append(l[i])\n",
    "    if(l[i]<l[i+1] and l[i+1]>l[i+2]):\n",
    "        l1.append(l[i+1])\n",
    "    #if(l[len(l)-1]>l[len(l)-2]):\n",
    "         #l1.append(l[len(l)-1])\n",
    "print(l1)"
   ]
  },
  {
   "cell_type": "code",
   "execution_count": 35,
   "id": "9c14bc10",
   "metadata": {},
   "outputs": [
    {
     "name": "stdout",
     "output_type": "stream",
     "text": [
      "7\n",
      "[5, 10]\n"
     ]
    }
   ],
   "source": [
    "l=[5,3,2,5,8,10,7]\n",
    "print(len(l))\n",
    "l1=[]\n",
    "if(l[0]>l[1]):\n",
    "    l1.append(l[0])\n",
    "for i in range(len(l)-2):\n",
    "    if(l[i]<l[i+1] and l[i+1]>l[i+2]):\n",
    "        l1.append(l[i+1]) \n",
    "if(l[len(l)-1]>l[len(l)-2]):\n",
    "    l1.append(l[len(l)-1])\n",
    "print(l1)"
   ]
  },
  {
   "cell_type": "code",
   "execution_count": 48,
   "id": "36c280a5",
   "metadata": {},
   "outputs": [
    {
     "name": "stdout",
     "output_type": "stream",
     "text": [
      "2400\n",
      "True\n"
     ]
    }
   ],
   "source": [
    "def is_leap(year):\n",
    "    #leap = False\n",
    "    \n",
    "    # Write your logic here\n",
    "    if((year%100==0 and year%4==0) and year%400==0):\n",
    "    \n",
    "           return True\n",
    "    else:\n",
    "        return False\n",
    "\n",
    "year = int(input())\n",
    "\n",
    "print(is_leap(year))"
   ]
  },
  {
   "cell_type": "code",
   "execution_count": 7,
   "id": "933eb28c",
   "metadata": {},
   "outputs": [
    {
     "name": "stdout",
     "output_type": "stream",
     "text": [
      "0 is not prime number\n",
      "enter any number=45\n"
     ]
    }
   ],
   "source": [
    "#prime number using function\n",
    "c=0\n",
    "\n",
    "def isprime(n):\n",
    "    for i in range(1,n+1):\n",
    "        if(n%i==0):\n",
    "            c=c+1\n",
    "        return(c)\n",
    "            \n",
    "if(isprime==2):\n",
    "    print(c,\"is a prime number\")\n",
    "else:\n",
    "    print(c,\"is not prime number\")\n",
    "n=int(input(\"enter any number=\"))\n",
    "            "
   ]
  },
  {
   "cell_type": "code",
   "execution_count": 19,
   "id": "a78c0533",
   "metadata": {},
   "outputs": [
    {
     "name": "stdout",
     "output_type": "stream",
     "text": [
      "enter number=5\n",
      "1\n",
      "12\n",
      "123\n",
      "1234\n",
      "12345\n"
     ]
    }
   ],
   "source": [
    "p=int(input(\"enter number=\"))\n",
    "for i in range(1,p+1):\n",
    "    for j in range(1,i+1):\n",
    "            print(j,end='')\n",
    "    print()"
   ]
  },
  {
   "cell_type": "code",
   "execution_count": 4,
   "id": "9e880461",
   "metadata": {},
   "outputs": [],
   "source": [
    "#OOPS \n",
    "class teacher:\n",
    "    def __init__(self):\n",
    "        self.name=\"Prashant\"\n",
    "        self.age=42\n",
    "    def display(self):\n",
    "        print(self.name)\n",
    "        print(self.age)"
   ]
  },
  {
   "cell_type": "code",
   "execution_count": 8,
   "id": "9dde780b",
   "metadata": {},
   "outputs": [
    {
     "name": "stdout",
     "output_type": "stream",
     "text": [
      "Prashant\n",
      "42\n",
      "Prashant\n",
      "42\n"
     ]
    }
   ],
   "source": [
    "t=teacher()\n",
    "t1=teacher()\n",
    "t1.display()\n",
    "t.display()"
   ]
  },
  {
   "cell_type": "code",
   "execution_count": 24,
   "id": "8988c6c8",
   "metadata": {},
   "outputs": [
    {
     "ename": "NameError",
     "evalue": "name 'student' is not defined",
     "output_type": "error",
     "traceback": [
      "\u001b[1;31m---------------------------------------------------------------------------\u001b[0m",
      "\u001b[1;31mNameError\u001b[0m                                 Traceback (most recent call last)",
      "Cell \u001b[1;32mIn[24], line 1\u001b[0m\n\u001b[1;32m----> 1\u001b[0m \u001b[38;5;28;01mclass\u001b[39;00m \u001b[38;5;21;01mstudent\u001b[39;00m:\n\u001b[0;32m      2\u001b[0m     \u001b[38;5;28;01mdef\u001b[39;00m \u001b[38;5;21m__init__\u001b[39m(\u001b[38;5;28mself\u001b[39m,naam,umar):\n\u001b[0;32m      3\u001b[0m         \u001b[38;5;28mself\u001b[39m\u001b[38;5;241m.\u001b[39mName\u001b[38;5;241m=\u001b[39mnaam\n",
      "Cell \u001b[1;32mIn[24], line 8\u001b[0m, in \u001b[0;36mstudent\u001b[1;34m()\u001b[0m\n\u001b[0;32m      6\u001b[0m     \u001b[38;5;28mprint\u001b[39m(\u001b[38;5;28mself\u001b[39m\u001b[38;5;241m.\u001b[39mnaam)\n\u001b[0;32m      7\u001b[0m     \u001b[38;5;28mprint\u001b[39m(\u001b[38;5;28mself\u001b[39m\u001b[38;5;241m.\u001b[39mumar)\n\u001b[1;32m----> 8\u001b[0m t1\u001b[38;5;241m=\u001b[39mstudent(\u001b[38;5;124m'\u001b[39m\u001b[38;5;124mpankaj\u001b[39m\u001b[38;5;124m'\u001b[39m,\u001b[38;5;241m42\u001b[39m)\n",
      "\u001b[1;31mNameError\u001b[0m: name 'student' is not defined"
     ]
    }
   ],
   "source": [
    "class student:\n",
    "    def __init__(self,naam,umar):\n",
    "        self.Name=naam\n",
    "        self.Age=umar\n",
    "    def display(self):\n",
    "        print(self.naam)\n",
    "        print(self.umar)\n",
    "    t1=student('pankaj',42)\n",
    "              "
   ]
  },
  {
   "cell_type": "code",
   "execution_count": 25,
   "id": "609d3ad2",
   "metadata": {},
   "outputs": [
    {
     "name": "stdout",
     "output_type": "stream",
     "text": [
      "pw\n"
     ]
    }
   ],
   "source": [
    "#static variable ==>class level variable\n",
    "class Teacher:\n",
    "    institute='pw'\n",
    "    def __init__(self):\n",
    "        self.name='pawan'\n",
    "        self.age=27\n",
    "    def display(self):\n",
    "        self.name='pankaj'\n",
    "        self.age=41\n",
    "print(Teacher.institute)\n",
    "        "
   ]
  },
  {
   "cell_type": "code",
   "execution_count": 26,
   "id": "d8789fc9",
   "metadata": {},
   "outputs": [
    {
     "name": "stdout",
     "output_type": "stream",
     "text": [
      "pw\n"
     ]
    }
   ],
   "source": [
    "t=Teacher()\n",
    "print(t.institute)"
   ]
  },
  {
   "cell_type": "code",
   "execution_count": null,
   "id": "e8d08ef8",
   "metadata": {},
   "outputs": [],
   "source": []
  }
 ],
 "metadata": {
  "kernelspec": {
   "display_name": "Python 3 (ipykernel)",
   "language": "python",
   "name": "python3"
  },
  "language_info": {
   "codemirror_mode": {
    "name": "ipython",
    "version": 3
   },
   "file_extension": ".py",
   "mimetype": "text/x-python",
   "name": "python",
   "nbconvert_exporter": "python",
   "pygments_lexer": "ipython3",
   "version": "3.11.3"
  }
 },
 "nbformat": 4,
 "nbformat_minor": 5
}
